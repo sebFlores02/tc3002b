{
 "cells": [
  {
   "cell_type": "code",
   "execution_count": 45,
   "metadata": {},
   "outputs": [],
   "source": [
    "# Importar librerías\n",
    "import pandas as pd\n",
    "import numpy as np\n",
    "import matplotlib.pyplot as plt\n",
    "import seaborn as sns\n",
    "from sklearn.model_selection import train_test_split\n",
    "from sklearn.preprocessing import StandardScaler\n",
    "import tensorflow as tf\n",
    "from sklearn.preprocessing import OneHotEncoder, LabelEncoder"
   ]
  },
  {
   "cell_type": "code",
   "execution_count": 46,
   "metadata": {},
   "outputs": [
    {
     "name": "stdout",
     "output_type": "stream",
     "text": [
      "Missing values:\n",
      "Employee_ID                      0\n",
      "Age                              0\n",
      "Gender                           0\n",
      "Marital_Status                   0\n",
      "Department                       0\n",
      "Job_Role                         0\n",
      "Job_Level                        0\n",
      "Monthly_Income                   0\n",
      "Hourly_Rate                      0\n",
      "Years_at_Company                 0\n",
      "Years_in_Current_Role            0\n",
      "Years_Since_Last_Promotion       0\n",
      "Work_Life_Balance                0\n",
      "Job_Satisfaction                 0\n",
      "Performance_Rating               0\n",
      "Training_Hours_Last_Year         0\n",
      "Overtime                         0\n",
      "Project_Count                    0\n",
      "Average_Hours_Worked_Per_Week    0\n",
      "Absenteeism                      0\n",
      "Work_Environment_Satisfaction    0\n",
      "Relationship_with_Manager        0\n",
      "Job_Involvement                  0\n",
      "Distance_From_Home               0\n",
      "Number_of_Companies_Worked       0\n",
      "Attrition                        0\n",
      "dtype: int64\n"
     ]
    }
   ],
   "source": [
    "# 1. Obtener un set de datos.\n",
    "df = pd.read_csv(\"data.csv\")\n",
    "\n",
    "# 2. Buscar valores vacios\n",
    "print(\"Missing values:\")\n",
    "print(df.isna().sum())\n",
    "\n",
    "# 3. Eliminar columna que no agrega valor al entrenamiento\n",
    "df = df.drop('Employee_ID', axis=1)"
   ]
  },
  {
   "cell_type": "code",
   "execution_count": 47,
   "metadata": {},
   "outputs": [],
   "source": [
    "# Guardar las columnas categóricas\n",
    "categorical_cols = ['Gender', 'Marital_Status', 'Department', 'Job_Role', 'Overtime']\n",
    "\n",
    "# Guardar las columnas numéricas\n",
    "numerical_cols = [col for col in df.columns if col not in categorical_cols + ['Attrition']]"
   ]
  },
  {
   "cell_type": "code",
   "execution_count": 48,
   "metadata": {},
   "outputs": [],
   "source": [
    "# 4. Separar features y target\n",
    "X = df.drop('Attrition', axis=1)\n",
    "y = df['Attrition']"
   ]
  },
  {
   "cell_type": "code",
   "execution_count": 49,
   "metadata": {},
   "outputs": [],
   "source": [
    "# 5. Dividir en train y test con un split 80 - 20\n",
    "X_train, X_test, y_train, y_test = train_test_split(X, y, test_size=0.2, random_state=42)"
   ]
  },
  {
   "cell_type": "code",
   "execution_count": 50,
   "metadata": {},
   "outputs": [],
   "source": [
    "# 6. Aplicar las técnicas de escalamiento y transformación de datos\n",
    "# Transformar datos categóricos mediante One Hot Encoder\n",
    "encoder = OneHotEncoder(sparse_output=False)\n",
    "X_train_cat_encoded = encoder.fit_transform(X_train[categorical_cols])\n",
    "X_test_cat_encoded = encoder.transform(X_test[categorical_cols])\n",
    "\n",
    "# Escalamiento de datos numéricos mediante StandarScaler\n",
    "scaler = StandardScaler()\n",
    "X_train_num_scaled = scaler.fit_transform(X_train[numerical_cols])\n",
    "X_test_num_scaled = scaler.transform(X_test[numerical_cols])"
   ]
  },
  {
   "cell_type": "code",
   "execution_count": 51,
   "metadata": {},
   "outputs": [],
   "source": [
    "# 7. Obtener nombres de features\n",
    "encoded_feature_names = encoder.get_feature_names_out(categorical_cols)\n",
    "\n",
    "# Crear DataFrames para datos categóricos transformados\n",
    "X_train_cat_df = pd.DataFrame(X_train_cat_encoded, columns=encoded_feature_names)\n",
    "X_test_cat_df = pd.DataFrame(X_test_cat_encoded, columns=encoded_feature_names)\n",
    "\n",
    "# Crear DataFrames para datos numéricos transformados\n",
    "X_train_num_df = pd.DataFrame(X_train_num_scaled, columns=numerical_cols)\n",
    "X_test_num_df = pd.DataFrame(X_test_num_scaled, columns=numerical_cols)"
   ]
  },
  {
   "cell_type": "code",
   "execution_count": 52,
   "metadata": {},
   "outputs": [],
   "source": [
    "# 8. Combinar datos categóricos y numéricos\n",
    "X_train_processed = pd.concat([X_train_num_df, X_train_cat_df], axis=1)\n",
    "X_test_processed = pd.concat([X_test_num_df, X_test_cat_df], axis=1)"
   ]
  },
  {
   "cell_type": "code",
   "execution_count": 53,
   "metadata": {},
   "outputs": [],
   "source": [
    "# 9. Transformar target a valor numerico mediante LabelEncoder\n",
    "label_encoder = LabelEncoder()\n",
    "y_train_encoded = label_encoder.fit_transform(y_train)\n",
    "y_test_encoded = label_encoder.transform(y_test)"
   ]
  },
  {
   "cell_type": "code",
   "execution_count": 54,
   "metadata": {},
   "outputs": [
    {
     "name": "stderr",
     "output_type": "stream",
     "text": [
      "/Users/sebastianflores/myenv/lib/python3.12/site-packages/keras/src/layers/reshaping/flatten.py:37: UserWarning: Do not pass an `input_shape`/`input_dim` argument to a layer. When using Sequential models, prefer using an `Input(shape)` object as the first layer in the model instead.\n",
      "  super().__init__(**kwargs)\n"
     ]
    }
   ],
   "source": [
    "# 8. Implementación de Modelo \n",
    "from tensorflow.keras.models import Sequential\n",
    "from tensorflow.keras.layers import Dense, Flatten\n",
    "\n",
    "input_shape = X_train_processed.shape[1:]\n",
    "\n",
    "model = Sequential([\n",
    "    Flatten(input_shape=input_shape),  \n",
    "    Dense(256, activation=\"relu\"),  \n",
    "    Dense(1, activation=\"sigmoid\")   \n",
    "])"
   ]
  },
  {
   "cell_type": "code",
   "execution_count": 55,
   "metadata": {},
   "outputs": [],
   "source": [
    "# 9. Compilamos modelo\n",
    "model.compile(optimizer='adam',\n",
    "              loss='binary_crossentropy',\n",
    "              metrics=['accuracy'])"
   ]
  },
  {
   "cell_type": "code",
   "execution_count": 56,
   "metadata": {},
   "outputs": [
    {
     "name": "stdout",
     "output_type": "stream",
     "text": [
      "Epoch 1/50\n",
      "\u001b[1m250/250\u001b[0m \u001b[32m━━━━━━━━━━━━━━━━━━━━\u001b[0m\u001b[37m\u001b[0m \u001b[1m1s\u001b[0m 862us/step - accuracy: 0.7890 - loss: 0.5189 - val_accuracy: 0.7960 - val_loss: 0.5123\n",
      "Epoch 2/50\n",
      "\u001b[1m250/250\u001b[0m \u001b[32m━━━━━━━━━━━━━━━━━━━━\u001b[0m\u001b[37m\u001b[0m \u001b[1m0s\u001b[0m 508us/step - accuracy: 0.7992 - loss: 0.4993 - val_accuracy: 0.7960 - val_loss: 0.5236\n",
      "Epoch 3/50\n",
      "\u001b[1m250/250\u001b[0m \u001b[32m━━━━━━━━━━━━━━━━━━━━\u001b[0m\u001b[37m\u001b[0m \u001b[1m0s\u001b[0m 497us/step - accuracy: 0.7967 - loss: 0.4967 - val_accuracy: 0.7960 - val_loss: 0.5169\n",
      "Epoch 4/50\n",
      "\u001b[1m250/250\u001b[0m \u001b[32m━━━━━━━━━━━━━━━━━━━━\u001b[0m\u001b[37m\u001b[0m \u001b[1m0s\u001b[0m 499us/step - accuracy: 0.8112 - loss: 0.4687 - val_accuracy: 0.7960 - val_loss: 0.5205\n",
      "Epoch 5/50\n",
      "\u001b[1m250/250\u001b[0m \u001b[32m━━━━━━━━━━━━━━━━━━━━\u001b[0m\u001b[37m\u001b[0m \u001b[1m0s\u001b[0m 500us/step - accuracy: 0.7977 - loss: 0.4840 - val_accuracy: 0.7960 - val_loss: 0.5240\n",
      "Epoch 6/50\n",
      "\u001b[1m250/250\u001b[0m \u001b[32m━━━━━━━━━━━━━━━━━━━━\u001b[0m\u001b[37m\u001b[0m \u001b[1m0s\u001b[0m 552us/step - accuracy: 0.8072 - loss: 0.4648 - val_accuracy: 0.7960 - val_loss: 0.5255\n",
      "Epoch 7/50\n",
      "\u001b[1m250/250\u001b[0m \u001b[32m━━━━━━━━━━━━━━━━━━━━\u001b[0m\u001b[37m\u001b[0m \u001b[1m0s\u001b[0m 556us/step - accuracy: 0.8075 - loss: 0.4621 - val_accuracy: 0.7955 - val_loss: 0.5268\n",
      "Epoch 8/50\n",
      "\u001b[1m250/250\u001b[0m \u001b[32m━━━━━━━━━━━━━━━━━━━━\u001b[0m\u001b[37m\u001b[0m \u001b[1m0s\u001b[0m 584us/step - accuracy: 0.8060 - loss: 0.4595 - val_accuracy: 0.7955 - val_loss: 0.5319\n",
      "Epoch 9/50\n",
      "\u001b[1m250/250\u001b[0m \u001b[32m━━━━━━━━━━━━━━━━━━━━\u001b[0m\u001b[37m\u001b[0m \u001b[1m0s\u001b[0m 557us/step - accuracy: 0.8003 - loss: 0.4613 - val_accuracy: 0.7925 - val_loss: 0.5330\n",
      "Epoch 10/50\n",
      "\u001b[1m250/250\u001b[0m \u001b[32m━━━━━━━━━━━━━━━━━━━━\u001b[0m\u001b[37m\u001b[0m \u001b[1m0s\u001b[0m 549us/step - accuracy: 0.7991 - loss: 0.4501 - val_accuracy: 0.7895 - val_loss: 0.5362\n",
      "Epoch 11/50\n",
      "\u001b[1m250/250\u001b[0m \u001b[32m━━━━━━━━━━━━━━━━━━━━\u001b[0m\u001b[37m\u001b[0m \u001b[1m0s\u001b[0m 529us/step - accuracy: 0.8141 - loss: 0.4365 - val_accuracy: 0.7910 - val_loss: 0.5391\n",
      "Epoch 12/50\n",
      "\u001b[1m250/250\u001b[0m \u001b[32m━━━━━━━━━━━━━━━━━━━━\u001b[0m\u001b[37m\u001b[0m \u001b[1m0s\u001b[0m 520us/step - accuracy: 0.8025 - loss: 0.4463 - val_accuracy: 0.7900 - val_loss: 0.5448\n",
      "Epoch 13/50\n",
      "\u001b[1m250/250\u001b[0m \u001b[32m━━━━━━━━━━━━━━━━━━━━\u001b[0m\u001b[37m\u001b[0m \u001b[1m0s\u001b[0m 524us/step - accuracy: 0.8108 - loss: 0.4303 - val_accuracy: 0.7915 - val_loss: 0.5441\n",
      "Epoch 14/50\n",
      "\u001b[1m250/250\u001b[0m \u001b[32m━━━━━━━━━━━━━━━━━━━━\u001b[0m\u001b[37m\u001b[0m \u001b[1m0s\u001b[0m 525us/step - accuracy: 0.8059 - loss: 0.4349 - val_accuracy: 0.7905 - val_loss: 0.5539\n",
      "Epoch 15/50\n",
      "\u001b[1m250/250\u001b[0m \u001b[32m━━━━━━━━━━━━━━━━━━━━\u001b[0m\u001b[37m\u001b[0m \u001b[1m0s\u001b[0m 544us/step - accuracy: 0.8037 - loss: 0.4357 - val_accuracy: 0.7890 - val_loss: 0.5511\n",
      "Epoch 16/50\n",
      "\u001b[1m250/250\u001b[0m \u001b[32m━━━━━━━━━━━━━━━━━━━━\u001b[0m\u001b[37m\u001b[0m \u001b[1m0s\u001b[0m 543us/step - accuracy: 0.8088 - loss: 0.4286 - val_accuracy: 0.7830 - val_loss: 0.5524\n",
      "Epoch 17/50\n",
      "\u001b[1m250/250\u001b[0m \u001b[32m━━━━━━━━━━━━━━━━━━━━\u001b[0m\u001b[37m\u001b[0m \u001b[1m0s\u001b[0m 583us/step - accuracy: 0.8098 - loss: 0.4223 - val_accuracy: 0.7840 - val_loss: 0.5620\n",
      "Epoch 18/50\n",
      "\u001b[1m250/250\u001b[0m \u001b[32m━━━━━━━━━━━━━━━━━━━━\u001b[0m\u001b[37m\u001b[0m \u001b[1m0s\u001b[0m 559us/step - accuracy: 0.8185 - loss: 0.4069 - val_accuracy: 0.7880 - val_loss: 0.5563\n",
      "Epoch 19/50\n",
      "\u001b[1m250/250\u001b[0m \u001b[32m━━━━━━━━━━━━━━━━━━━━\u001b[0m\u001b[37m\u001b[0m \u001b[1m0s\u001b[0m 522us/step - accuracy: 0.8157 - loss: 0.4092 - val_accuracy: 0.7830 - val_loss: 0.5669\n",
      "Epoch 20/50\n",
      "\u001b[1m250/250\u001b[0m \u001b[32m━━━━━━━━━━━━━━━━━━━━\u001b[0m\u001b[37m\u001b[0m \u001b[1m0s\u001b[0m 530us/step - accuracy: 0.8208 - loss: 0.3998 - val_accuracy: 0.7805 - val_loss: 0.5703\n",
      "Epoch 21/50\n",
      "\u001b[1m250/250\u001b[0m \u001b[32m━━━━━━━━━━━━━━━━━━━━\u001b[0m\u001b[37m\u001b[0m \u001b[1m0s\u001b[0m 527us/step - accuracy: 0.8253 - loss: 0.3945 - val_accuracy: 0.7835 - val_loss: 0.5773\n",
      "Epoch 22/50\n",
      "\u001b[1m250/250\u001b[0m \u001b[32m━━━━━━━━━━━━━━━━━━━━\u001b[0m\u001b[37m\u001b[0m \u001b[1m0s\u001b[0m 565us/step - accuracy: 0.8277 - loss: 0.3873 - val_accuracy: 0.7780 - val_loss: 0.5764\n",
      "Epoch 23/50\n",
      "\u001b[1m250/250\u001b[0m \u001b[32m━━━━━━━━━━━━━━━━━━━━\u001b[0m\u001b[37m\u001b[0m \u001b[1m0s\u001b[0m 520us/step - accuracy: 0.8305 - loss: 0.3812 - val_accuracy: 0.7725 - val_loss: 0.5750\n",
      "Epoch 24/50\n",
      "\u001b[1m250/250\u001b[0m \u001b[32m━━━━━━━━━━━━━━━━━━━━\u001b[0m\u001b[37m\u001b[0m \u001b[1m0s\u001b[0m 546us/step - accuracy: 0.8334 - loss: 0.3779 - val_accuracy: 0.7760 - val_loss: 0.5845\n",
      "Epoch 25/50\n",
      "\u001b[1m250/250\u001b[0m \u001b[32m━━━━━━━━━━━━━━━━━━━━\u001b[0m\u001b[37m\u001b[0m \u001b[1m0s\u001b[0m 514us/step - accuracy: 0.8260 - loss: 0.3804 - val_accuracy: 0.7755 - val_loss: 0.5922\n",
      "Epoch 26/50\n",
      "\u001b[1m250/250\u001b[0m \u001b[32m━━━━━━━━━━━━━━━━━━━━\u001b[0m\u001b[37m\u001b[0m \u001b[1m0s\u001b[0m 627us/step - accuracy: 0.8431 - loss: 0.3568 - val_accuracy: 0.7655 - val_loss: 0.5896\n",
      "Epoch 27/50\n",
      "\u001b[1m250/250\u001b[0m \u001b[32m━━━━━━━━━━━━━━━━━━━━\u001b[0m\u001b[37m\u001b[0m \u001b[1m0s\u001b[0m 517us/step - accuracy: 0.8424 - loss: 0.3529 - val_accuracy: 0.7775 - val_loss: 0.6020\n",
      "Epoch 28/50\n",
      "\u001b[1m250/250\u001b[0m \u001b[32m━━━━━━━━━━━━━━━━━━━━\u001b[0m\u001b[37m\u001b[0m \u001b[1m0s\u001b[0m 525us/step - accuracy: 0.8458 - loss: 0.3470 - val_accuracy: 0.7515 - val_loss: 0.5982\n",
      "Epoch 29/50\n",
      "\u001b[1m250/250\u001b[0m \u001b[32m━━━━━━━━━━━━━━━━━━━━\u001b[0m\u001b[37m\u001b[0m \u001b[1m0s\u001b[0m 516us/step - accuracy: 0.8541 - loss: 0.3371 - val_accuracy: 0.7440 - val_loss: 0.6043\n",
      "Epoch 30/50\n",
      "\u001b[1m250/250\u001b[0m \u001b[32m━━━━━━━━━━━━━━━━━━━━\u001b[0m\u001b[37m\u001b[0m \u001b[1m0s\u001b[0m 521us/step - accuracy: 0.8519 - loss: 0.3373 - val_accuracy: 0.7765 - val_loss: 0.6131\n",
      "Epoch 31/50\n",
      "\u001b[1m250/250\u001b[0m \u001b[32m━━━━━━━━━━━━━━━━━━━━\u001b[0m\u001b[37m\u001b[0m \u001b[1m0s\u001b[0m 560us/step - accuracy: 0.8518 - loss: 0.3307 - val_accuracy: 0.7500 - val_loss: 0.6089\n",
      "Epoch 32/50\n",
      "\u001b[1m250/250\u001b[0m \u001b[32m━━━━━━━━━━━━━━━━━━━━\u001b[0m\u001b[37m\u001b[0m \u001b[1m0s\u001b[0m 524us/step - accuracy: 0.8576 - loss: 0.3294 - val_accuracy: 0.7370 - val_loss: 0.6124\n",
      "Epoch 33/50\n",
      "\u001b[1m250/250\u001b[0m \u001b[32m━━━━━━━━━━━━━━━━━━━━\u001b[0m\u001b[37m\u001b[0m \u001b[1m0s\u001b[0m 520us/step - accuracy: 0.8682 - loss: 0.3164 - val_accuracy: 0.7530 - val_loss: 0.6124\n",
      "Epoch 34/50\n",
      "\u001b[1m250/250\u001b[0m \u001b[32m━━━━━━━━━━━━━━━━━━━━\u001b[0m\u001b[37m\u001b[0m \u001b[1m0s\u001b[0m 519us/step - accuracy: 0.8643 - loss: 0.3194 - val_accuracy: 0.7655 - val_loss: 0.6126\n",
      "Epoch 35/50\n",
      "\u001b[1m250/250\u001b[0m \u001b[32m━━━━━━━━━━━━━━━━━━━━\u001b[0m\u001b[37m\u001b[0m \u001b[1m0s\u001b[0m 517us/step - accuracy: 0.8690 - loss: 0.3049 - val_accuracy: 0.7670 - val_loss: 0.6218\n",
      "Epoch 36/50\n",
      "\u001b[1m250/250\u001b[0m \u001b[32m━━━━━━━━━━━━━━━━━━━━\u001b[0m\u001b[37m\u001b[0m \u001b[1m0s\u001b[0m 518us/step - accuracy: 0.8728 - loss: 0.2979 - val_accuracy: 0.7500 - val_loss: 0.6272\n",
      "Epoch 37/50\n",
      "\u001b[1m250/250\u001b[0m \u001b[32m━━━━━━━━━━━━━━━━━━━━\u001b[0m\u001b[37m\u001b[0m \u001b[1m0s\u001b[0m 523us/step - accuracy: 0.8781 - loss: 0.2966 - val_accuracy: 0.7295 - val_loss: 0.6291\n",
      "Epoch 38/50\n",
      "\u001b[1m250/250\u001b[0m \u001b[32m━━━━━━━━━━━━━━━━━━━━\u001b[0m\u001b[37m\u001b[0m \u001b[1m0s\u001b[0m 545us/step - accuracy: 0.8791 - loss: 0.2933 - val_accuracy: 0.7650 - val_loss: 0.6380\n",
      "Epoch 39/50\n",
      "\u001b[1m250/250\u001b[0m \u001b[32m━━━━━━━━━━━━━━━━━━━━\u001b[0m\u001b[37m\u001b[0m \u001b[1m0s\u001b[0m 512us/step - accuracy: 0.8814 - loss: 0.2834 - val_accuracy: 0.7565 - val_loss: 0.6357\n",
      "Epoch 40/50\n",
      "\u001b[1m250/250\u001b[0m \u001b[32m━━━━━━━━━━━━━━━━━━━━\u001b[0m\u001b[37m\u001b[0m \u001b[1m0s\u001b[0m 526us/step - accuracy: 0.8941 - loss: 0.2727 - val_accuracy: 0.7215 - val_loss: 0.6413\n",
      "Epoch 41/50\n",
      "\u001b[1m250/250\u001b[0m \u001b[32m━━━━━━━━━━━━━━━━━━━━\u001b[0m\u001b[37m\u001b[0m \u001b[1m0s\u001b[0m 526us/step - accuracy: 0.8934 - loss: 0.2692 - val_accuracy: 0.7440 - val_loss: 0.6514\n",
      "Epoch 42/50\n",
      "\u001b[1m250/250\u001b[0m \u001b[32m━━━━━━━━━━━━━━━━━━━━\u001b[0m\u001b[37m\u001b[0m \u001b[1m0s\u001b[0m 522us/step - accuracy: 0.8915 - loss: 0.2705 - val_accuracy: 0.7635 - val_loss: 0.6536\n",
      "Epoch 43/50\n",
      "\u001b[1m250/250\u001b[0m \u001b[32m━━━━━━━━━━━━━━━━━━━━\u001b[0m\u001b[37m\u001b[0m \u001b[1m0s\u001b[0m 514us/step - accuracy: 0.8971 - loss: 0.2569 - val_accuracy: 0.7385 - val_loss: 0.6508\n",
      "Epoch 44/50\n",
      "\u001b[1m250/250\u001b[0m \u001b[32m━━━━━━━━━━━━━━━━━━━━\u001b[0m\u001b[37m\u001b[0m \u001b[1m0s\u001b[0m 520us/step - accuracy: 0.8994 - loss: 0.2593 - val_accuracy: 0.7450 - val_loss: 0.6673\n",
      "Epoch 45/50\n",
      "\u001b[1m250/250\u001b[0m \u001b[32m━━━━━━━━━━━━━━━━━━━━\u001b[0m\u001b[37m\u001b[0m \u001b[1m0s\u001b[0m 611us/step - accuracy: 0.9040 - loss: 0.2553 - val_accuracy: 0.7205 - val_loss: 0.6677\n",
      "Epoch 46/50\n",
      "\u001b[1m250/250\u001b[0m \u001b[32m━━━━━━━━━━━━━━━━━━━━\u001b[0m\u001b[37m\u001b[0m \u001b[1m0s\u001b[0m 532us/step - accuracy: 0.9077 - loss: 0.2484 - val_accuracy: 0.7490 - val_loss: 0.6647\n",
      "Epoch 47/50\n",
      "\u001b[1m250/250\u001b[0m \u001b[32m━━━━━━━━━━━━━━━━━━━━\u001b[0m\u001b[37m\u001b[0m \u001b[1m0s\u001b[0m 513us/step - accuracy: 0.9042 - loss: 0.2470 - val_accuracy: 0.7455 - val_loss: 0.6667\n",
      "Epoch 48/50\n",
      "\u001b[1m250/250\u001b[0m \u001b[32m━━━━━━━━━━━━━━━━━━━━\u001b[0m\u001b[37m\u001b[0m \u001b[1m0s\u001b[0m 564us/step - accuracy: 0.9112 - loss: 0.2408 - val_accuracy: 0.7340 - val_loss: 0.6732\n",
      "Epoch 49/50\n",
      "\u001b[1m250/250\u001b[0m \u001b[32m━━━━━━━━━━━━━━━━━━━━\u001b[0m\u001b[37m\u001b[0m \u001b[1m0s\u001b[0m 634us/step - accuracy: 0.9130 - loss: 0.2354 - val_accuracy: 0.7470 - val_loss: 0.6860\n",
      "Epoch 50/50\n",
      "\u001b[1m250/250\u001b[0m \u001b[32m━━━━━━━━━━━━━━━━━━━━\u001b[0m\u001b[37m\u001b[0m \u001b[1m0s\u001b[0m 550us/step - accuracy: 0.9167 - loss: 0.2286 - val_accuracy: 0.7335 - val_loss: 0.6888\n"
     ]
    }
   ],
   "source": [
    "# 10. Entrenamiento de modelo\n",
    "history = model.fit(\n",
    "    X_train_processed, y_train_encoded,\n",
    "    epochs=50,\n",
    "    validation_data=(X_test_processed, y_test_encoded)\n",
    ")"
   ]
  },
  {
   "cell_type": "code",
   "execution_count": 57,
   "metadata": {},
   "outputs": [
    {
     "name": "stdout",
     "output_type": "stream",
     "text": [
      "\u001b[1m63/63\u001b[0m \u001b[32m━━━━━━━━━━━━━━━━━━━━\u001b[0m\u001b[37m\u001b[0m \u001b[1m0s\u001b[0m 336us/step - accuracy: 0.7369 - loss: 0.6734\n",
      "Accuracy: 0.7335\n"
     ]
    }
   ],
   "source": [
    "# 11. Evaluación inicial del modelo  \n",
    "test_loss, test_acc = model.evaluate(X_test_processed, y_test_encoded)\n",
    "print(f'Accuracy: {test_acc:.4f}')"
   ]
  }
 ],
 "metadata": {
  "kernelspec": {
   "display_name": "Python (myenv)",
   "language": "python",
   "name": "myenv"
  },
  "language_info": {
   "codemirror_mode": {
    "name": "ipython",
    "version": 3
   },
   "file_extension": ".py",
   "mimetype": "text/x-python",
   "name": "python",
   "nbconvert_exporter": "python",
   "pygments_lexer": "ipython3",
   "version": "3.12.8"
  },
  "orig_nbformat": 4,
  "vscode": {
   "interpreter": {
    "hash": "96dcb73dab4c7af799a0ae7ca0bc551f978d5c47f4779f1e2a7c5cbc01fdd5d1"
   }
  }
 },
 "nbformat": 4,
 "nbformat_minor": 2
}
