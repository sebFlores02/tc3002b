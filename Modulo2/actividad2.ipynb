{
 "cells": [
  {
   "cell_type": "code",
   "execution_count": 1,
   "metadata": {},
   "outputs": [],
   "source": [
    "# Importar librerías\n",
    "import pandas as pd\n",
    "import numpy as np\n",
    "import matplotlib.pyplot as plt\n",
    "from sklearn.model_selection import train_test_split\n",
    "from sklearn.preprocessing import StandardScaler\n",
    "import tensorflow as tf\n",
    "from sklearn.preprocessing import OneHotEncoder, LabelEncoder\n",
    "from imblearn.over_sampling import SMOTE"
   ]
  },
  {
   "cell_type": "code",
   "execution_count": 2,
   "metadata": {},
   "outputs": [
    {
     "name": "stdout",
     "output_type": "stream",
     "text": [
      "Missing values:\n",
      "Employee_ID                      0\n",
      "Age                              0\n",
      "Gender                           0\n",
      "Marital_Status                   0\n",
      "Department                       0\n",
      "Job_Role                         0\n",
      "Job_Level                        0\n",
      "Monthly_Income                   0\n",
      "Hourly_Rate                      0\n",
      "Years_at_Company                 0\n",
      "Years_in_Current_Role            0\n",
      "Years_Since_Last_Promotion       0\n",
      "Work_Life_Balance                0\n",
      "Job_Satisfaction                 0\n",
      "Performance_Rating               0\n",
      "Training_Hours_Last_Year         0\n",
      "Overtime                         0\n",
      "Project_Count                    0\n",
      "Average_Hours_Worked_Per_Week    0\n",
      "Absenteeism                      0\n",
      "Work_Environment_Satisfaction    0\n",
      "Relationship_with_Manager        0\n",
      "Job_Involvement                  0\n",
      "Distance_From_Home               0\n",
      "Number_of_Companies_Worked       0\n",
      "Attrition                        0\n",
      "dtype: int64\n",
      "\n",
      "Distribución original de clases:\n",
      "Attrition\n",
      "No     80.03\n",
      "Yes    19.97\n",
      "Name: proportion, dtype: float64\n"
     ]
    }
   ],
   "source": [
    "# 1. Obtener un set de datos.\n",
    "df = pd.read_csv(\"data.csv\")\n",
    "\n",
    "# 2. Buscar valores vacios\n",
    "print(\"Missing values:\")\n",
    "print(df.isna().sum())\n",
    "\n",
    "# 3. Eliminar columna que no agrega valor al entrenamiento\n",
    "df = df.drop('Employee_ID', axis=1)\n",
    "\n",
    "# Mostrar distribución de clases\n",
    "print(\"\\nDistribución original de clases:\")\n",
    "print(df['Attrition'].value_counts(normalize=True) * 100)\n"
   ]
  },
  {
   "cell_type": "code",
   "execution_count": 3,
   "metadata": {},
   "outputs": [],
   "source": [
    "# Guardar las columnas categóricas\n",
    "categorical_cols = ['Gender', 'Marital_Status', 'Department', 'Job_Role', 'Overtime']\n",
    "\n",
    "# Guardar las columnas numéricas\n",
    "numerical_cols = [col for col in df.columns if col not in categorical_cols + ['Attrition']]"
   ]
  },
  {
   "cell_type": "code",
   "execution_count": 4,
   "metadata": {},
   "outputs": [],
   "source": [
    "# 4. Separar features y target\n",
    "X = df.drop('Attrition', axis=1)\n",
    "y = df['Attrition']"
   ]
  },
  {
   "cell_type": "code",
   "execution_count": 5,
   "metadata": {},
   "outputs": [],
   "source": [
    "# 5. Dividir en train y test con un split 80 - 20\n",
    "X_train, X_test, y_train, y_test = train_test_split(X, y, test_size=0.3, random_state=42)"
   ]
  },
  {
   "cell_type": "code",
   "execution_count": 6,
   "metadata": {},
   "outputs": [],
   "source": [
    "# 6. Aplicar las técnicas de escalamiento y transformación de datos\n",
    "# Transformar datos categóricos mediante One Hot Encoder\n",
    "encoder = OneHotEncoder(sparse_output=False)\n",
    "X_train_cat_encoded = encoder.fit_transform(X_train[categorical_cols])\n",
    "X_test_cat_encoded = encoder.transform(X_test[categorical_cols])\n",
    "\n",
    "# Escalamiento de datos numéricos mediante StandarScaler\n",
    "scaler = StandardScaler()\n",
    "X_train_num_scaled = scaler.fit_transform(X_train[numerical_cols])\n",
    "X_test_num_scaled = scaler.transform(X_test[numerical_cols])"
   ]
  },
  {
   "cell_type": "code",
   "execution_count": 7,
   "metadata": {},
   "outputs": [],
   "source": [
    "# 7. Obtener nombres de features\n",
    "encoded_feature_names = encoder.get_feature_names_out(categorical_cols)\n",
    "\n",
    "# Crear DataFrames para datos categóricos transformados\n",
    "X_train_cat_df = pd.DataFrame(X_train_cat_encoded, columns=encoded_feature_names)\n",
    "X_test_cat_df = pd.DataFrame(X_test_cat_encoded, columns=encoded_feature_names)\n",
    "\n",
    "# Crear DataFrames para datos numéricos transformados\n",
    "X_train_num_df = pd.DataFrame(X_train_num_scaled, columns=numerical_cols)\n",
    "X_test_num_df = pd.DataFrame(X_test_num_scaled, columns=numerical_cols)"
   ]
  },
  {
   "cell_type": "code",
   "execution_count": 8,
   "metadata": {},
   "outputs": [],
   "source": [
    "# 8. Combinar datos categóricos y numéricos\n",
    "X_train_processed = pd.concat([X_train_num_df, X_train_cat_df], axis=1)\n",
    "X_test_processed = pd.concat([X_test_num_df, X_test_cat_df], axis=1)"
   ]
  },
  {
   "cell_type": "code",
   "execution_count": 9,
   "metadata": {},
   "outputs": [],
   "source": [
    "# 9. Transformar target a valor numerico mediante LabelEncoder\n",
    "label_encoder = LabelEncoder()\n",
    "y_train_encoded = label_encoder.fit_transform(y_train)\n",
    "y_test_encoded = label_encoder.transform(y_test)"
   ]
  },
  {
   "cell_type": "code",
   "execution_count": 10,
   "metadata": {},
   "outputs": [],
   "source": [
    "smote = SMOTE(random_state=42)\n",
    "X_train_resampled, y_train_resampled = smote.fit_resample(X_train_processed, y_train_encoded)"
   ]
  },
  {
   "cell_type": "code",
   "execution_count": 11,
   "metadata": {},
   "outputs": [
    {
     "name": "stderr",
     "output_type": "stream",
     "text": [
      "/Users/sebastianflores/miniconda3/lib/python3.12/site-packages/keras/src/layers/reshaping/flatten.py:37: UserWarning: Do not pass an `input_shape`/`input_dim` argument to a layer. When using Sequential models, prefer using an `Input(shape)` object as the first layer in the model instead.\n",
      "  super().__init__(**kwargs)\n"
     ]
    }
   ],
   "source": [
    "# 8. Implementación de Modelo \n",
    "from tensorflow.keras.models import Sequential\n",
    "from tensorflow.keras.layers import Dense, Flatten\n",
    "\n",
    "input_shape = X_train_resampled.shape[1:]\n",
    "\n",
    "model = Sequential([\n",
    "    Flatten(input_shape=input_shape),  \n",
    "    Dense(256, activation=\"relu\"),  \n",
    "    Dense(1, activation=\"sigmoid\")   \n",
    "])"
   ]
  },
  {
   "cell_type": "code",
   "execution_count": 12,
   "metadata": {},
   "outputs": [],
   "source": [
    "# 9. Compilamos modelo\n",
    "model.compile(optimizer='adam',\n",
    "              loss='binary_crossentropy',\n",
    "              metrics=['accuracy'])"
   ]
  },
  {
   "cell_type": "code",
   "execution_count": 13,
   "metadata": {},
   "outputs": [
    {
     "name": "stdout",
     "output_type": "stream",
     "text": [
      "Epoch 1/100\n",
      "\u001b[1m352/352\u001b[0m \u001b[32m━━━━━━━━━━━━━━━━━━━━\u001b[0m\u001b[37m\u001b[0m \u001b[1m1s\u001b[0m 1ms/step - accuracy: 0.5313 - loss: 0.6938 - val_accuracy: 0.5107 - val_loss: 0.7082\n",
      "Epoch 2/100\n",
      "\u001b[1m352/352\u001b[0m \u001b[32m━━━━━━━━━━━━━━━━━━━━\u001b[0m\u001b[37m\u001b[0m \u001b[1m0s\u001b[0m 910us/step - accuracy: 0.6589 - loss: 0.6383 - val_accuracy: 0.6007 - val_loss: 0.6600\n",
      "Epoch 3/100\n",
      "\u001b[1m352/352\u001b[0m \u001b[32m━━━━━━━━━━━━━━━━━━━━\u001b[0m\u001b[37m\u001b[0m \u001b[1m0s\u001b[0m 876us/step - accuracy: 0.7051 - loss: 0.5962 - val_accuracy: 0.6380 - val_loss: 0.6383\n",
      "Epoch 4/100\n",
      "\u001b[1m352/352\u001b[0m \u001b[32m━━━━━━━━━━━━━━━━━━━━\u001b[0m\u001b[37m\u001b[0m \u001b[1m0s\u001b[0m 896us/step - accuracy: 0.7404 - loss: 0.5567 - val_accuracy: 0.5393 - val_loss: 0.7232\n",
      "Epoch 5/100\n",
      "\u001b[1m352/352\u001b[0m \u001b[32m━━━━━━━━━━━━━━━━━━━━\u001b[0m\u001b[37m\u001b[0m \u001b[1m0s\u001b[0m 952us/step - accuracy: 0.7556 - loss: 0.5301 - val_accuracy: 0.6120 - val_loss: 0.6765\n",
      "Epoch 6/100\n",
      "\u001b[1m352/352\u001b[0m \u001b[32m━━━━━━━━━━━━━━━━━━━━\u001b[0m\u001b[37m\u001b[0m \u001b[1m0s\u001b[0m 1ms/step - accuracy: 0.7769 - loss: 0.4934 - val_accuracy: 0.5917 - val_loss: 0.7024\n",
      "Epoch 7/100\n",
      "\u001b[1m352/352\u001b[0m \u001b[32m━━━━━━━━━━━━━━━━━━━━\u001b[0m\u001b[37m\u001b[0m \u001b[1m0s\u001b[0m 1ms/step - accuracy: 0.7999 - loss: 0.4663 - val_accuracy: 0.6317 - val_loss: 0.6842\n",
      "Epoch 8/100\n",
      "\u001b[1m352/352\u001b[0m \u001b[32m━━━━━━━━━━━━━━━━━━━━\u001b[0m\u001b[37m\u001b[0m \u001b[1m0s\u001b[0m 1ms/step - accuracy: 0.8054 - loss: 0.4510 - val_accuracy: 0.6447 - val_loss: 0.6801\n",
      "Epoch 9/100\n",
      "\u001b[1m352/352\u001b[0m \u001b[32m━━━━━━━━━━━━━━━━━━━━\u001b[0m\u001b[37m\u001b[0m \u001b[1m0s\u001b[0m 959us/step - accuracy: 0.8199 - loss: 0.4262 - val_accuracy: 0.6647 - val_loss: 0.6731\n",
      "Epoch 10/100\n",
      "\u001b[1m352/352\u001b[0m \u001b[32m━━━━━━━━━━━━━━━━━━━━\u001b[0m\u001b[37m\u001b[0m \u001b[1m0s\u001b[0m 938us/step - accuracy: 0.8341 - loss: 0.4065 - val_accuracy: 0.6067 - val_loss: 0.7244\n",
      "Epoch 11/100\n",
      "\u001b[1m352/352\u001b[0m \u001b[32m━━━━━━━━━━━━━━━━━━━━\u001b[0m\u001b[37m\u001b[0m \u001b[1m0s\u001b[0m 860us/step - accuracy: 0.8443 - loss: 0.3821 - val_accuracy: 0.6787 - val_loss: 0.6798\n",
      "Epoch 12/100\n",
      "\u001b[1m352/352\u001b[0m \u001b[32m━━━━━━━━━━━━━━━━━━━━\u001b[0m\u001b[37m\u001b[0m \u001b[1m0s\u001b[0m 1ms/step - accuracy: 0.8544 - loss: 0.3645 - val_accuracy: 0.6857 - val_loss: 0.6823\n",
      "Epoch 13/100\n",
      "\u001b[1m352/352\u001b[0m \u001b[32m━━━━━━━━━━━━━━━━━━━━\u001b[0m\u001b[37m\u001b[0m \u001b[1m0s\u001b[0m 1ms/step - accuracy: 0.8681 - loss: 0.3446 - val_accuracy: 0.6653 - val_loss: 0.7070\n",
      "Epoch 14/100\n",
      "\u001b[1m352/352\u001b[0m \u001b[32m━━━━━━━━━━━━━━━━━━━━\u001b[0m\u001b[37m\u001b[0m \u001b[1m0s\u001b[0m 1ms/step - accuracy: 0.8742 - loss: 0.3268 - val_accuracy: 0.6713 - val_loss: 0.6994\n",
      "Epoch 15/100\n",
      "\u001b[1m352/352\u001b[0m \u001b[32m━━━━━━━━━━━━━━━━━━━━\u001b[0m\u001b[37m\u001b[0m \u001b[1m0s\u001b[0m 997us/step - accuracy: 0.8798 - loss: 0.3150 - val_accuracy: 0.6760 - val_loss: 0.7109\n",
      "Epoch 16/100\n",
      "\u001b[1m352/352\u001b[0m \u001b[32m━━━━━━━━━━━━━━━━━━━━\u001b[0m\u001b[37m\u001b[0m \u001b[1m0s\u001b[0m 948us/step - accuracy: 0.8891 - loss: 0.2979 - val_accuracy: 0.6357 - val_loss: 0.7467\n",
      "Epoch 17/100\n",
      "\u001b[1m352/352\u001b[0m \u001b[32m━━━━━━━━━━━━━━━━━━━━\u001b[0m\u001b[37m\u001b[0m \u001b[1m0s\u001b[0m 1ms/step - accuracy: 0.9053 - loss: 0.2772 - val_accuracy: 0.6853 - val_loss: 0.7182\n",
      "Epoch 18/100\n",
      "\u001b[1m352/352\u001b[0m \u001b[32m━━━━━━━━━━━━━━━━━━━━\u001b[0m\u001b[37m\u001b[0m \u001b[1m0s\u001b[0m 926us/step - accuracy: 0.9069 - loss: 0.2659 - val_accuracy: 0.6973 - val_loss: 0.7265\n",
      "Epoch 19/100\n",
      "\u001b[1m352/352\u001b[0m \u001b[32m━━━━━━━━━━━━━━━━━━━━\u001b[0m\u001b[37m\u001b[0m \u001b[1m0s\u001b[0m 928us/step - accuracy: 0.9089 - loss: 0.2624 - val_accuracy: 0.6610 - val_loss: 0.7478\n",
      "Epoch 20/100\n",
      "\u001b[1m352/352\u001b[0m \u001b[32m━━━━━━━━━━━━━━━━━━━━\u001b[0m\u001b[37m\u001b[0m \u001b[1m0s\u001b[0m 935us/step - accuracy: 0.9190 - loss: 0.2422 - val_accuracy: 0.6800 - val_loss: 0.7355\n",
      "Epoch 21/100\n",
      "\u001b[1m352/352\u001b[0m \u001b[32m━━━━━━━━━━━━━━━━━━━━\u001b[0m\u001b[37m\u001b[0m \u001b[1m0s\u001b[0m 898us/step - accuracy: 0.9307 - loss: 0.2245 - val_accuracy: 0.6673 - val_loss: 0.7576\n",
      "Epoch 22/100\n",
      "\u001b[1m352/352\u001b[0m \u001b[32m━━━━━━━━━━━━━━━━━━━━\u001b[0m\u001b[37m\u001b[0m \u001b[1m0s\u001b[0m 849us/step - accuracy: 0.9278 - loss: 0.2215 - val_accuracy: 0.7057 - val_loss: 0.7366\n",
      "Epoch 23/100\n",
      "\u001b[1m352/352\u001b[0m \u001b[32m━━━━━━━━━━━━━━━━━━━━\u001b[0m\u001b[37m\u001b[0m \u001b[1m0s\u001b[0m 831us/step - accuracy: 0.9360 - loss: 0.2112 - val_accuracy: 0.7053 - val_loss: 0.7501\n",
      "Epoch 24/100\n",
      "\u001b[1m352/352\u001b[0m \u001b[32m━━━━━━━━━━━━━━━━━━━━\u001b[0m\u001b[37m\u001b[0m \u001b[1m0s\u001b[0m 852us/step - accuracy: 0.9385 - loss: 0.1977 - val_accuracy: 0.7003 - val_loss: 0.7566\n",
      "Epoch 25/100\n",
      "\u001b[1m352/352\u001b[0m \u001b[32m━━━━━━━━━━━━━━━━━━━━\u001b[0m\u001b[37m\u001b[0m \u001b[1m0s\u001b[0m 888us/step - accuracy: 0.9436 - loss: 0.1905 - val_accuracy: 0.6990 - val_loss: 0.7739\n",
      "Epoch 26/100\n",
      "\u001b[1m352/352\u001b[0m \u001b[32m━━━━━━━━━━━━━━━━━━━━\u001b[0m\u001b[37m\u001b[0m \u001b[1m0s\u001b[0m 838us/step - accuracy: 0.9456 - loss: 0.1845 - val_accuracy: 0.6873 - val_loss: 0.7680\n",
      "Epoch 27/100\n",
      "\u001b[1m352/352\u001b[0m \u001b[32m━━━━━━━━━━━━━━━━━━━━\u001b[0m\u001b[37m\u001b[0m \u001b[1m0s\u001b[0m 830us/step - accuracy: 0.9485 - loss: 0.1782 - val_accuracy: 0.6743 - val_loss: 0.7810\n",
      "Epoch 28/100\n",
      "\u001b[1m352/352\u001b[0m \u001b[32m━━━━━━━━━━━━━━━━━━━━\u001b[0m\u001b[37m\u001b[0m \u001b[1m0s\u001b[0m 835us/step - accuracy: 0.9519 - loss: 0.1693 - val_accuracy: 0.6990 - val_loss: 0.7931\n",
      "Epoch 29/100\n",
      "\u001b[1m352/352\u001b[0m \u001b[32m━━━━━━━━━━━━━━━━━━━━\u001b[0m\u001b[37m\u001b[0m \u001b[1m0s\u001b[0m 866us/step - accuracy: 0.9567 - loss: 0.1589 - val_accuracy: 0.6890 - val_loss: 0.8020\n",
      "Epoch 30/100\n",
      "\u001b[1m352/352\u001b[0m \u001b[32m━━━━━━━━━━━━━━━━━━━━\u001b[0m\u001b[37m\u001b[0m \u001b[1m0s\u001b[0m 908us/step - accuracy: 0.9556 - loss: 0.1538 - val_accuracy: 0.7390 - val_loss: 0.8156\n",
      "Epoch 31/100\n",
      "\u001b[1m352/352\u001b[0m \u001b[32m━━━━━━━━━━━━━━━━━━━━\u001b[0m\u001b[37m\u001b[0m \u001b[1m0s\u001b[0m 923us/step - accuracy: 0.9652 - loss: 0.1447 - val_accuracy: 0.7080 - val_loss: 0.8218\n",
      "Epoch 32/100\n",
      "\u001b[1m352/352\u001b[0m \u001b[32m━━━━━━━━━━━━━━━━━━━━\u001b[0m\u001b[37m\u001b[0m \u001b[1m0s\u001b[0m 846us/step - accuracy: 0.9643 - loss: 0.1402 - val_accuracy: 0.6957 - val_loss: 0.8281\n",
      "Epoch 33/100\n",
      "\u001b[1m352/352\u001b[0m \u001b[32m━━━━━━━━━━━━━━━━━━━━\u001b[0m\u001b[37m\u001b[0m \u001b[1m0s\u001b[0m 841us/step - accuracy: 0.9677 - loss: 0.1315 - val_accuracy: 0.7057 - val_loss: 0.8446\n",
      "Epoch 34/100\n",
      "\u001b[1m352/352\u001b[0m \u001b[32m━━━━━━━━━━━━━━━━━━━━\u001b[0m\u001b[37m\u001b[0m \u001b[1m0s\u001b[0m 1ms/step - accuracy: 0.9668 - loss: 0.1293 - val_accuracy: 0.6963 - val_loss: 0.8482\n",
      "Epoch 35/100\n",
      "\u001b[1m352/352\u001b[0m \u001b[32m━━━━━━━━━━━━━━━━━━━━\u001b[0m\u001b[37m\u001b[0m \u001b[1m0s\u001b[0m 919us/step - accuracy: 0.9722 - loss: 0.1197 - val_accuracy: 0.6863 - val_loss: 0.8596\n",
      "Epoch 36/100\n",
      "\u001b[1m352/352\u001b[0m \u001b[32m━━━━━━━━━━━━━━━━━━━━\u001b[0m\u001b[37m\u001b[0m \u001b[1m0s\u001b[0m 893us/step - accuracy: 0.9738 - loss: 0.1157 - val_accuracy: 0.6957 - val_loss: 0.8682\n",
      "Epoch 37/100\n",
      "\u001b[1m352/352\u001b[0m \u001b[32m━━━━━━━━━━━━━━━━━━━━\u001b[0m\u001b[37m\u001b[0m \u001b[1m0s\u001b[0m 1ms/step - accuracy: 0.9778 - loss: 0.1092 - val_accuracy: 0.6997 - val_loss: 0.8737\n",
      "Epoch 38/100\n",
      "\u001b[1m352/352\u001b[0m \u001b[32m━━━━━━━━━━━━━━━━━━━━\u001b[0m\u001b[37m\u001b[0m \u001b[1m0s\u001b[0m 885us/step - accuracy: 0.9775 - loss: 0.1061 - val_accuracy: 0.6910 - val_loss: 0.8802\n",
      "Epoch 39/100\n",
      "\u001b[1m352/352\u001b[0m \u001b[32m━━━━━━━━━━━━━━━━━━━━\u001b[0m\u001b[37m\u001b[0m \u001b[1m0s\u001b[0m 891us/step - accuracy: 0.9802 - loss: 0.1015 - val_accuracy: 0.6757 - val_loss: 0.8958\n",
      "Epoch 40/100\n",
      "\u001b[1m352/352\u001b[0m \u001b[32m━━━━━━━━━━━━━━━━━━━━\u001b[0m\u001b[37m\u001b[0m \u001b[1m0s\u001b[0m 898us/step - accuracy: 0.9817 - loss: 0.0949 - val_accuracy: 0.7047 - val_loss: 0.9382\n",
      "Epoch 41/100\n",
      "\u001b[1m352/352\u001b[0m \u001b[32m━━━━━━━━━━━━━━━━━━━━\u001b[0m\u001b[37m\u001b[0m \u001b[1m0s\u001b[0m 912us/step - accuracy: 0.9822 - loss: 0.0931 - val_accuracy: 0.6923 - val_loss: 0.9129\n",
      "Epoch 42/100\n",
      "\u001b[1m352/352\u001b[0m \u001b[32m━━━━━━━━━━━━━━━━━━━━\u001b[0m\u001b[37m\u001b[0m \u001b[1m0s\u001b[0m 872us/step - accuracy: 0.9834 - loss: 0.0859 - val_accuracy: 0.6813 - val_loss: 0.9279\n",
      "Epoch 43/100\n",
      "\u001b[1m352/352\u001b[0m \u001b[32m━━━━━━━━━━━━━━━━━━━━\u001b[0m\u001b[37m\u001b[0m \u001b[1m0s\u001b[0m 879us/step - accuracy: 0.9833 - loss: 0.0859 - val_accuracy: 0.6940 - val_loss: 0.9373\n",
      "Epoch 44/100\n",
      "\u001b[1m352/352\u001b[0m \u001b[32m━━━━━━━━━━━━━━━━━━━━\u001b[0m\u001b[37m\u001b[0m \u001b[1m0s\u001b[0m 890us/step - accuracy: 0.9861 - loss: 0.0815 - val_accuracy: 0.7060 - val_loss: 0.9558\n",
      "Epoch 45/100\n",
      "\u001b[1m352/352\u001b[0m \u001b[32m━━━━━━━━━━━━━━━━━━━━\u001b[0m\u001b[37m\u001b[0m \u001b[1m0s\u001b[0m 881us/step - accuracy: 0.9888 - loss: 0.0772 - val_accuracy: 0.6937 - val_loss: 0.9709\n",
      "Epoch 46/100\n",
      "\u001b[1m352/352\u001b[0m \u001b[32m━━━━━━━━━━━━━━━━━━━━\u001b[0m\u001b[37m\u001b[0m \u001b[1m0s\u001b[0m 891us/step - accuracy: 0.9867 - loss: 0.0772 - val_accuracy: 0.6917 - val_loss: 0.9648\n",
      "Epoch 47/100\n",
      "\u001b[1m352/352\u001b[0m \u001b[32m━━━━━━━━━━━━━━━━━━━━\u001b[0m\u001b[37m\u001b[0m \u001b[1m0s\u001b[0m 881us/step - accuracy: 0.9892 - loss: 0.0726 - val_accuracy: 0.6950 - val_loss: 0.9696\n",
      "Epoch 48/100\n",
      "\u001b[1m352/352\u001b[0m \u001b[32m━━━━━━━━━━━━━━━━━━━━\u001b[0m\u001b[37m\u001b[0m \u001b[1m0s\u001b[0m 886us/step - accuracy: 0.9914 - loss: 0.0684 - val_accuracy: 0.7173 - val_loss: 1.0040\n",
      "Epoch 49/100\n",
      "\u001b[1m352/352\u001b[0m \u001b[32m━━━━━━━━━━━━━━━━━━━━\u001b[0m\u001b[37m\u001b[0m \u001b[1m0s\u001b[0m 891us/step - accuracy: 0.9904 - loss: 0.0651 - val_accuracy: 0.6453 - val_loss: 1.0335\n",
      "Epoch 50/100\n",
      "\u001b[1m352/352\u001b[0m \u001b[32m━━━━━━━━━━━━━━━━━━━━\u001b[0m\u001b[37m\u001b[0m \u001b[1m0s\u001b[0m 882us/step - accuracy: 0.9898 - loss: 0.0675 - val_accuracy: 0.6970 - val_loss: 1.0193\n",
      "Epoch 51/100\n",
      "\u001b[1m352/352\u001b[0m \u001b[32m━━━━━━━━━━━━━━━━━━━━\u001b[0m\u001b[37m\u001b[0m \u001b[1m0s\u001b[0m 889us/step - accuracy: 0.9925 - loss: 0.0597 - val_accuracy: 0.7083 - val_loss: 1.0252\n",
      "Epoch 52/100\n",
      "\u001b[1m352/352\u001b[0m \u001b[32m━━━━━━━━━━━━━━━━━━━━\u001b[0m\u001b[37m\u001b[0m \u001b[1m0s\u001b[0m 882us/step - accuracy: 0.9945 - loss: 0.0579 - val_accuracy: 0.6997 - val_loss: 1.0436\n",
      "Epoch 53/100\n",
      "\u001b[1m352/352\u001b[0m \u001b[32m━━━━━━━━━━━━━━━━━━━━\u001b[0m\u001b[37m\u001b[0m \u001b[1m0s\u001b[0m 921us/step - accuracy: 0.9937 - loss: 0.0560 - val_accuracy: 0.6617 - val_loss: 1.0641\n",
      "Epoch 54/100\n",
      "\u001b[1m352/352\u001b[0m \u001b[32m━━━━━━━━━━━━━━━━━━━━\u001b[0m\u001b[37m\u001b[0m \u001b[1m0s\u001b[0m 875us/step - accuracy: 0.9945 - loss: 0.0558 - val_accuracy: 0.7123 - val_loss: 1.0589\n",
      "Epoch 55/100\n",
      "\u001b[1m352/352\u001b[0m \u001b[32m━━━━━━━━━━━━━━━━━━━━\u001b[0m\u001b[37m\u001b[0m \u001b[1m0s\u001b[0m 875us/step - accuracy: 0.9935 - loss: 0.0518 - val_accuracy: 0.6837 - val_loss: 1.0541\n",
      "Epoch 56/100\n",
      "\u001b[1m352/352\u001b[0m \u001b[32m━━━━━━━━━━━━━━━━━━━━\u001b[0m\u001b[37m\u001b[0m \u001b[1m0s\u001b[0m 876us/step - accuracy: 0.9955 - loss: 0.0495 - val_accuracy: 0.7007 - val_loss: 1.0709\n",
      "Epoch 57/100\n",
      "\u001b[1m352/352\u001b[0m \u001b[32m━━━━━━━━━━━━━━━━━━━━\u001b[0m\u001b[37m\u001b[0m \u001b[1m0s\u001b[0m 890us/step - accuracy: 0.9948 - loss: 0.0507 - val_accuracy: 0.6947 - val_loss: 1.1102\n",
      "Epoch 58/100\n",
      "\u001b[1m352/352\u001b[0m \u001b[32m━━━━━━━━━━━━━━━━━━━━\u001b[0m\u001b[37m\u001b[0m \u001b[1m0s\u001b[0m 887us/step - accuracy: 0.9960 - loss: 0.0460 - val_accuracy: 0.6920 - val_loss: 1.1070\n",
      "Epoch 59/100\n",
      "\u001b[1m352/352\u001b[0m \u001b[32m━━━━━━━━━━━━━━━━━━━━\u001b[0m\u001b[37m\u001b[0m \u001b[1m0s\u001b[0m 909us/step - accuracy: 0.9960 - loss: 0.0435 - val_accuracy: 0.6833 - val_loss: 1.1116\n",
      "Epoch 60/100\n",
      "\u001b[1m352/352\u001b[0m \u001b[32m━━━━━━━━━━━━━━━━━━━━\u001b[0m\u001b[37m\u001b[0m \u001b[1m0s\u001b[0m 909us/step - accuracy: 0.9963 - loss: 0.0437 - val_accuracy: 0.7227 - val_loss: 1.1302\n",
      "Epoch 61/100\n",
      "\u001b[1m352/352\u001b[0m \u001b[32m━━━━━━━━━━━━━━━━━━━━\u001b[0m\u001b[37m\u001b[0m \u001b[1m0s\u001b[0m 874us/step - accuracy: 0.9972 - loss: 0.0411 - val_accuracy: 0.6950 - val_loss: 1.1603\n",
      "Epoch 62/100\n",
      "\u001b[1m352/352\u001b[0m \u001b[32m━━━━━━━━━━━━━━━━━━━━\u001b[0m\u001b[37m\u001b[0m \u001b[1m1s\u001b[0m 2ms/step - accuracy: 0.9968 - loss: 0.0409 - val_accuracy: 0.7043 - val_loss: 1.1627\n",
      "Epoch 63/100\n",
      "\u001b[1m352/352\u001b[0m \u001b[32m━━━━━━━━━━━━━━━━━━━━\u001b[0m\u001b[37m\u001b[0m \u001b[1m1s\u001b[0m 2ms/step - accuracy: 0.9970 - loss: 0.0380 - val_accuracy: 0.6847 - val_loss: 1.1794\n",
      "Epoch 64/100\n",
      "\u001b[1m352/352\u001b[0m \u001b[32m━━━━━━━━━━━━━━━━━━━━\u001b[0m\u001b[37m\u001b[0m \u001b[1m0s\u001b[0m 927us/step - accuracy: 0.9968 - loss: 0.0374 - val_accuracy: 0.7037 - val_loss: 1.1606\n",
      "Epoch 65/100\n",
      "\u001b[1m352/352\u001b[0m \u001b[32m━━━━━━━━━━━━━━━━━━━━\u001b[0m\u001b[37m\u001b[0m \u001b[1m0s\u001b[0m 1ms/step - accuracy: 0.9971 - loss: 0.0369 - val_accuracy: 0.6790 - val_loss: 1.1870\n",
      "Epoch 66/100\n",
      "\u001b[1m352/352\u001b[0m \u001b[32m━━━━━━━━━━━━━━━━━━━━\u001b[0m\u001b[37m\u001b[0m \u001b[1m0s\u001b[0m 1ms/step - accuracy: 0.9980 - loss: 0.0339 - val_accuracy: 0.7067 - val_loss: 1.2121\n",
      "Epoch 67/100\n",
      "\u001b[1m352/352\u001b[0m \u001b[32m━━━━━━━━━━━━━━━━━━━━\u001b[0m\u001b[37m\u001b[0m \u001b[1m0s\u001b[0m 973us/step - accuracy: 0.9990 - loss: 0.0305 - val_accuracy: 0.7247 - val_loss: 1.2459\n",
      "Epoch 68/100\n",
      "\u001b[1m352/352\u001b[0m \u001b[32m━━━━━━━━━━━━━━━━━━━━\u001b[0m\u001b[37m\u001b[0m \u001b[1m0s\u001b[0m 988us/step - accuracy: 0.9987 - loss: 0.0317 - val_accuracy: 0.6943 - val_loss: 1.2104\n",
      "Epoch 69/100\n",
      "\u001b[1m352/352\u001b[0m \u001b[32m━━━━━━━━━━━━━━━━━━━━\u001b[0m\u001b[37m\u001b[0m \u001b[1m0s\u001b[0m 859us/step - accuracy: 0.9986 - loss: 0.0290 - val_accuracy: 0.6850 - val_loss: 1.2481\n",
      "Epoch 70/100\n",
      "\u001b[1m352/352\u001b[0m \u001b[32m━━━━━━━━━━━━━━━━━━━━\u001b[0m\u001b[37m\u001b[0m \u001b[1m0s\u001b[0m 838us/step - accuracy: 0.9991 - loss: 0.0313 - val_accuracy: 0.7117 - val_loss: 1.2596\n",
      "Epoch 71/100\n",
      "\u001b[1m352/352\u001b[0m \u001b[32m━━━━━━━━━━━━━━━━━━━━\u001b[0m\u001b[37m\u001b[0m \u001b[1m0s\u001b[0m 833us/step - accuracy: 0.9990 - loss: 0.0269 - val_accuracy: 0.6970 - val_loss: 1.2748\n",
      "Epoch 72/100\n",
      "\u001b[1m352/352\u001b[0m \u001b[32m━━━━━━━━━━━━━━━━━━━━\u001b[0m\u001b[37m\u001b[0m \u001b[1m0s\u001b[0m 984us/step - accuracy: 0.9978 - loss: 0.0296 - val_accuracy: 0.6857 - val_loss: 1.2711\n",
      "Epoch 73/100\n",
      "\u001b[1m352/352\u001b[0m \u001b[32m━━━━━━━━━━━━━━━━━━━━\u001b[0m\u001b[37m\u001b[0m \u001b[1m0s\u001b[0m 979us/step - accuracy: 0.9989 - loss: 0.0260 - val_accuracy: 0.7130 - val_loss: 1.3106\n",
      "Epoch 74/100\n",
      "\u001b[1m352/352\u001b[0m \u001b[32m━━━━━━━━━━━━━━━━━━━━\u001b[0m\u001b[37m\u001b[0m \u001b[1m0s\u001b[0m 965us/step - accuracy: 0.9991 - loss: 0.0258 - val_accuracy: 0.6963 - val_loss: 1.2993\n",
      "Epoch 75/100\n",
      "\u001b[1m352/352\u001b[0m \u001b[32m━━━━━━━━━━━━━━━━━━━━\u001b[0m\u001b[37m\u001b[0m \u001b[1m0s\u001b[0m 1ms/step - accuracy: 0.9995 - loss: 0.0219 - val_accuracy: 0.7080 - val_loss: 1.3109\n",
      "Epoch 76/100\n",
      "\u001b[1m352/352\u001b[0m \u001b[32m━━━━━━━━━━━━━━━━━━━━\u001b[0m\u001b[37m\u001b[0m \u001b[1m0s\u001b[0m 1ms/step - accuracy: 0.9996 - loss: 0.0215 - val_accuracy: 0.6923 - val_loss: 1.3146\n",
      "Epoch 77/100\n",
      "\u001b[1m352/352\u001b[0m \u001b[32m━━━━━━━━━━━━━━━━━━━━\u001b[0m\u001b[37m\u001b[0m \u001b[1m0s\u001b[0m 908us/step - accuracy: 0.9996 - loss: 0.0206 - val_accuracy: 0.7043 - val_loss: 1.3540\n",
      "Epoch 78/100\n",
      "\u001b[1m352/352\u001b[0m \u001b[32m━━━━━━━━━━━━━━━━━━━━\u001b[0m\u001b[37m\u001b[0m \u001b[1m0s\u001b[0m 885us/step - accuracy: 0.9993 - loss: 0.0229 - val_accuracy: 0.6997 - val_loss: 1.3860\n",
      "Epoch 79/100\n",
      "\u001b[1m352/352\u001b[0m \u001b[32m━━━━━━━━━━━━━━━━━━━━\u001b[0m\u001b[37m\u001b[0m \u001b[1m0s\u001b[0m 918us/step - accuracy: 0.9992 - loss: 0.0223 - val_accuracy: 0.6950 - val_loss: 1.3583\n",
      "Epoch 80/100\n",
      "\u001b[1m352/352\u001b[0m \u001b[32m━━━━━━━━━━━━━━━━━━━━\u001b[0m\u001b[37m\u001b[0m \u001b[1m0s\u001b[0m 896us/step - accuracy: 0.9995 - loss: 0.0185 - val_accuracy: 0.7040 - val_loss: 1.4071\n",
      "Epoch 81/100\n",
      "\u001b[1m352/352\u001b[0m \u001b[32m━━━━━━━━━━━━━━━━━━━━\u001b[0m\u001b[37m\u001b[0m \u001b[1m0s\u001b[0m 890us/step - accuracy: 0.9995 - loss: 0.0191 - val_accuracy: 0.7037 - val_loss: 1.3789\n",
      "Epoch 82/100\n",
      "\u001b[1m352/352\u001b[0m \u001b[32m━━━━━━━━━━━━━━━━━━━━\u001b[0m\u001b[37m\u001b[0m \u001b[1m0s\u001b[0m 884us/step - accuracy: 0.9998 - loss: 0.0169 - val_accuracy: 0.6857 - val_loss: 1.3778\n",
      "Epoch 83/100\n",
      "\u001b[1m352/352\u001b[0m \u001b[32m━━━━━━━━━━━━━━━━━━━━\u001b[0m\u001b[37m\u001b[0m \u001b[1m0s\u001b[0m 896us/step - accuracy: 0.9999 - loss: 0.0169 - val_accuracy: 0.6923 - val_loss: 1.4143\n",
      "Epoch 84/100\n",
      "\u001b[1m352/352\u001b[0m \u001b[32m━━━━━━━━━━━━━━━━━━━━\u001b[0m\u001b[37m\u001b[0m \u001b[1m0s\u001b[0m 896us/step - accuracy: 0.9996 - loss: 0.0170 - val_accuracy: 0.7010 - val_loss: 1.4193\n",
      "Epoch 85/100\n",
      "\u001b[1m352/352\u001b[0m \u001b[32m━━━━━━━━━━━━━━━━━━━━\u001b[0m\u001b[37m\u001b[0m \u001b[1m0s\u001b[0m 970us/step - accuracy: 0.9991 - loss: 0.0179 - val_accuracy: 0.7043 - val_loss: 1.4418\n",
      "Epoch 86/100\n",
      "\u001b[1m352/352\u001b[0m \u001b[32m━━━━━━━━━━━━━━━━━━━━\u001b[0m\u001b[37m\u001b[0m \u001b[1m0s\u001b[0m 893us/step - accuracy: 0.9997 - loss: 0.0175 - val_accuracy: 0.6933 - val_loss: 1.4287\n",
      "Epoch 87/100\n",
      "\u001b[1m352/352\u001b[0m \u001b[32m━━━━━━━━━━━━━━━━━━━━\u001b[0m\u001b[37m\u001b[0m \u001b[1m0s\u001b[0m 894us/step - accuracy: 0.9991 - loss: 0.0151 - val_accuracy: 0.7060 - val_loss: 1.4555\n",
      "Epoch 88/100\n",
      "\u001b[1m352/352\u001b[0m \u001b[32m━━━━━━━━━━━━━━━━━━━━\u001b[0m\u001b[37m\u001b[0m \u001b[1m0s\u001b[0m 888us/step - accuracy: 0.9999 - loss: 0.0140 - val_accuracy: 0.6870 - val_loss: 1.4786\n",
      "Epoch 89/100\n",
      "\u001b[1m352/352\u001b[0m \u001b[32m━━━━━━━━━━━━━━━━━━━━\u001b[0m\u001b[37m\u001b[0m \u001b[1m0s\u001b[0m 888us/step - accuracy: 0.9996 - loss: 0.0159 - val_accuracy: 0.6870 - val_loss: 1.4756\n",
      "Epoch 90/100\n",
      "\u001b[1m352/352\u001b[0m \u001b[32m━━━━━━━━━━━━━━━━━━━━\u001b[0m\u001b[37m\u001b[0m \u001b[1m0s\u001b[0m 903us/step - accuracy: 1.0000 - loss: 0.0128 - val_accuracy: 0.6933 - val_loss: 1.5060\n",
      "Epoch 91/100\n",
      "\u001b[1m352/352\u001b[0m \u001b[32m━━━━━━━━━━━━━━━━━━━━\u001b[0m\u001b[37m\u001b[0m \u001b[1m0s\u001b[0m 939us/step - accuracy: 1.0000 - loss: 0.0115 - val_accuracy: 0.6857 - val_loss: 1.5059\n",
      "Epoch 92/100\n",
      "\u001b[1m352/352\u001b[0m \u001b[32m━━━━━━━━━━━━━━━━━━━━\u001b[0m\u001b[37m\u001b[0m \u001b[1m0s\u001b[0m 898us/step - accuracy: 0.9994 - loss: 0.0135 - val_accuracy: 0.7013 - val_loss: 1.5338\n",
      "Epoch 93/100\n",
      "\u001b[1m352/352\u001b[0m \u001b[32m━━━━━━━━━━━━━━━━━━━━\u001b[0m\u001b[37m\u001b[0m \u001b[1m0s\u001b[0m 882us/step - accuracy: 0.9994 - loss: 0.0149 - val_accuracy: 0.6810 - val_loss: 1.5695\n",
      "Epoch 94/100\n",
      "\u001b[1m352/352\u001b[0m \u001b[32m━━━━━━━━━━━━━━━━━━━━\u001b[0m\u001b[37m\u001b[0m \u001b[1m0s\u001b[0m 884us/step - accuracy: 0.9985 - loss: 0.0167 - val_accuracy: 0.6993 - val_loss: 1.5362\n",
      "Epoch 95/100\n",
      "\u001b[1m352/352\u001b[0m \u001b[32m━━━━━━━━━━━━━━━━━━━━\u001b[0m\u001b[37m\u001b[0m \u001b[1m0s\u001b[0m 1ms/step - accuracy: 1.0000 - loss: 0.0103 - val_accuracy: 0.6903 - val_loss: 1.5447\n",
      "Epoch 96/100\n",
      "\u001b[1m352/352\u001b[0m \u001b[32m━━━━━━━━━━━━━━━━━━━━\u001b[0m\u001b[37m\u001b[0m \u001b[1m0s\u001b[0m 892us/step - accuracy: 1.0000 - loss: 0.0092 - val_accuracy: 0.7187 - val_loss: 1.5985\n",
      "Epoch 97/100\n",
      "\u001b[1m352/352\u001b[0m \u001b[32m━━━━━━━━━━━━━━━━━━━━\u001b[0m\u001b[37m\u001b[0m \u001b[1m0s\u001b[0m 935us/step - accuracy: 0.9999 - loss: 0.0096 - val_accuracy: 0.6603 - val_loss: 1.6295\n",
      "Epoch 98/100\n",
      "\u001b[1m352/352\u001b[0m \u001b[32m━━━━━━━━━━━━━━━━━━━━\u001b[0m\u001b[37m\u001b[0m \u001b[1m0s\u001b[0m 887us/step - accuracy: 0.9967 - loss: 0.0215 - val_accuracy: 0.7090 - val_loss: 1.6326\n",
      "Epoch 99/100\n",
      "\u001b[1m352/352\u001b[0m \u001b[32m━━━━━━━━━━━━━━━━━━━━\u001b[0m\u001b[37m\u001b[0m \u001b[1m0s\u001b[0m 885us/step - accuracy: 0.9993 - loss: 0.0113 - val_accuracy: 0.7097 - val_loss: 1.6278\n",
      "Epoch 100/100\n",
      "\u001b[1m352/352\u001b[0m \u001b[32m━━━━━━━━━━━━━━━━━━━━\u001b[0m\u001b[37m\u001b[0m \u001b[1m0s\u001b[0m 896us/step - accuracy: 0.9999 - loss: 0.0082 - val_accuracy: 0.7033 - val_loss: 1.6047\n"
     ]
    }
   ],
   "source": [
    "# 10. Entrenamiento de modelo\n",
    "history = model.fit(\n",
    "    X_train_resampled, y_train_resampled,\n",
    "    epochs=100,\n",
    "    validation_data=(X_test_processed, y_test_encoded)\n",
    ")"
   ]
  },
  {
   "cell_type": "code",
   "execution_count": 14,
   "metadata": {},
   "outputs": [
    {
     "name": "stdout",
     "output_type": "stream",
     "text": [
      "\u001b[1m94/94\u001b[0m \u001b[32m━━━━━━━━━━━━━━━━━━━━\u001b[0m\u001b[37m\u001b[0m \u001b[1m0s\u001b[0m 690us/step - accuracy: 0.7085 - loss: 1.5852\n",
      "Accuracy: 0.7033\n"
     ]
    }
   ],
   "source": [
    "# 11. Evaluación inicial del modelo  \n",
    "test_loss, test_acc = model.evaluate(X_test_processed, y_test_encoded)\n",
    "print(f'Accuracy: {test_acc:.4f}')"
   ]
  },
  {
   "cell_type": "code",
   "execution_count": 15,
   "metadata": {},
   "outputs": [
    {
     "name": "stdout",
     "output_type": "stream",
     "text": [
      "\u001b[1m94/94\u001b[0m \u001b[32m━━━━━━━━━━━━━━━━━━━━\u001b[0m\u001b[37m\u001b[0m \u001b[1m0s\u001b[0m 722us/step\n"
     ]
    },
    {
     "data": {
      "text/plain": [
       "array([0, 0, 0, ..., 1, 0, 0])"
      ]
     },
     "execution_count": 15,
     "metadata": {},
     "output_type": "execute_result"
    }
   ],
   "source": [
    "predictions = model.predict(X_test_processed)\n",
    "classes_x = (predictions > 0.5).astype(int).flatten()\n",
    "\n",
    "classes_x"
   ]
  },
  {
   "cell_type": "code",
   "execution_count": 16,
   "metadata": {},
   "outputs": [
    {
     "name": "stdout",
     "output_type": "stream",
     "text": [
      "          label neg   label pos\n",
      "pred neg     2005          520\n",
      "pred pos     370          105\n",
      "Precision: 0.22105263157894736\n",
      "Recall: 0.168\n",
      "F1: 0.09545454545454547\n"
     ]
    }
   ],
   "source": [
    "TP = 0\n",
    "TN = 0\n",
    "FP = 0\n",
    "FN = 0\n",
    "\n",
    "for i in range(len(classes_x)):\n",
    "  if classes_x[i] == 1:\n",
    "    if y_test_encoded[i] == 1:\n",
    "      TP = TP + 1\n",
    "    else :\n",
    "      FP = FP + 1\n",
    "  else:\n",
    "    if y_test_encoded[i] == 0:\n",
    "      TN = TN + 1\n",
    "    else :\n",
    "      FN = FN + 1\n",
    "\n",
    "\n",
    "print('         ', 'label neg ', ' label pos')\n",
    "print('pred neg    ', TN, \"        \", FN)\n",
    "print('pred pos    ', FP, \"        \", TP)\n",
    "\n",
    "precision = TP / (TP + FP)\n",
    "recall = TP / (TP + FN)\n",
    "f1 = precision*recall / (precision + recall)\n",
    "print(\"Precision:\", precision)\n",
    "print(\"Recall:\", recall)\n",
    "print(\"F1:\", f1)"
   ]
  }
 ],
 "metadata": {
  "kernelspec": {
   "display_name": "base",
   "language": "python",
   "name": "python3"
  },
  "language_info": {
   "codemirror_mode": {
    "name": "ipython",
    "version": 3
   },
   "file_extension": ".py",
   "mimetype": "text/x-python",
   "name": "python",
   "nbconvert_exporter": "python",
   "pygments_lexer": "ipython3",
   "version": "3.12.9"
  },
  "orig_nbformat": 4,
  "vscode": {
   "interpreter": {
    "hash": "a2f8dd9a2b65164a0dd37b4e5739f150314b1e17efbbfa1422ea4f2e7b18b306"
   }
  }
 },
 "nbformat": 4,
 "nbformat_minor": 2
}
