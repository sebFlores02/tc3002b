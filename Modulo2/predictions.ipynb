{
 "cells": [
  {
   "cell_type": "code",
   "execution_count": 1,
   "metadata": {},
   "outputs": [],
   "source": [
    "import pandas as pd\n",
    "import pickle\n",
    "from matriz_confusion import calcular_matriz_confusion"
   ]
  },
  {
   "cell_type": "code",
   "execution_count": 3,
   "metadata": {},
   "outputs": [
    {
     "name": "stdout",
     "output_type": "stream",
     "text": [
      "   Prediccion\n",
      "0           1\n"
     ]
    }
   ],
   "source": [
    "with open('modelo_alzheimer.pkl', 'rb') as f:\n",
    "    components = pickle.load(f)\n",
    "\n",
    "# Extraer componentes\n",
    "model = components['model']\n",
    "encoder = components['encoder']\n",
    "scaler = components['scaler']\n",
    "label_encoder = components['label_encoder']\n",
    "numerical_cols = components['numerical_cols']\n",
    "categorical_cols = components['categorical_cols']\n",
    "selector = components['selector']\n",
    "\n",
    "# Cargar datos\n",
    "dataset = 'datos_externos_test.csv'\n",
    "df = pd.read_csv(dataset)\n",
    "\n",
    "if 'Diagnosis' in df.columns:\n",
    "    diagnosis_real = df['Diagnosis'].copy()\n",
    "    X = df.drop('Diagnosis', axis=1)\n",
    "    tiene_diagnosis = True\n",
    "else:\n",
    "    X = df.copy()\n",
    "    tiene_diagnosis = False\n",
    "\n",
    "# Preprocesar características categóricas\n",
    "X_cat = encoder.transform(X[categorical_cols])\n",
    "X_num = scaler.transform(X[numerical_cols])\n",
    "\n",
    "# Crear DataFrame con datos transformados\n",
    "feature_names = encoder.get_feature_names_out(categorical_cols)\n",
    "X_cat_df = pd.DataFrame(X_cat, columns=feature_names)\n",
    "X_num_df = pd.DataFrame(X_num, columns=numerical_cols)\n",
    "X_processed = pd.concat([X_num_df, X_cat_df], axis=1)\n",
    "\n",
    "X_selected = selector.transform(X_processed)\n",
    "\n",
    "y_pred_encoded = model.predict(X_selected) \n",
    "y_pred = label_encoder.inverse_transform(y_pred_encoded)\n",
    "\n",
    "resultados = pd.DataFrame({\n",
    "    'Prediccion': y_pred,\n",
    "})\n",
    "\n",
    "if tiene_diagnosis:\n",
    "    resultados['Diagnosis_Real'] = diagnosis_real\n",
    "    y_true_encoded = label_encoder.transform(diagnosis_real)\n",
    "\n",
    "    calcular_matriz_confusion(y_true_encoded, y_pred)\n",
    "\n",
    "output_file = \"predicciones.csv\"\n",
    "resultados.to_csv(output_file, index=False)\n",
    "print(resultados.head())"
   ]
  }
 ],
 "metadata": {
  "kernelspec": {
   "display_name": "base",
   "language": "python",
   "name": "python3"
  },
  "language_info": {
   "codemirror_mode": {
    "name": "ipython",
    "version": 3
   },
   "file_extension": ".py",
   "mimetype": "text/x-python",
   "name": "python",
   "nbconvert_exporter": "python",
   "pygments_lexer": "ipython3",
   "version": "3.12.9"
  },
  "orig_nbformat": 4,
  "vscode": {
   "interpreter": {
    "hash": "a2f8dd9a2b65164a0dd37b4e5739f150314b1e17efbbfa1422ea4f2e7b18b306"
   }
  }
 },
 "nbformat": 4,
 "nbformat_minor": 2
}
