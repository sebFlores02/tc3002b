{
 "cells": [
  {
   "cell_type": "code",
   "execution_count": 1,
   "metadata": {},
   "outputs": [],
   "source": [
    "# Importar librerías\n",
    "import pandas as pd\n",
    "import matplotlib.pyplot as plt\n",
    "from imblearn.over_sampling import SMOTE\n",
    "from evaluateModel import evaluate_model\n",
    "from sklearn.model_selection import train_test_split, KFold\n",
    "from sklearn.preprocessing import StandardScaler, OneHotEncoder, LabelEncoder\n",
    "from sklearn.ensemble import RandomForestClassifier, VotingClassifier\n",
    "from sklearn.tree import DecisionTreeClassifier\n",
    "from sklearn.svm import SVC\n",
    "from sklearn.naive_bayes import GaussianNB\n",
    "from sklearn.linear_model import LogisticRegression\n",
    "from sklearn.discriminant_analysis import LinearDiscriminantAnalysis\n",
    "from sklearn.ensemble import AdaBoostClassifier\n",
    "from sklearn.neighbors import KNeighborsClassifier\n",
    "from sklearn.feature_selection import SelectKBest, f_classif\n",
    "from sklearn.model_selection import cross_validate, cross_val_score\n",
    "from sklearn.feature_selection import chi2, mutual_info_classif, RFE\n",
    "import numpy as np\n",
    "from sklearn.model_selection import GridSearchCV\n",
    "from sklearn.tree import DecisionTreeClassifier\n",
    "from sklearn.svm import SVC\n",
    "from sklearn.naive_bayes import GaussianNB\n",
    "from sklearn.linear_model import LogisticRegression\n",
    "from sklearn.ensemble import RandomForestClassifier\n",
    "import pickle"
   ]
  },
  {
   "cell_type": "code",
   "execution_count": 2,
   "metadata": {},
   "outputs": [
    {
     "name": "stdout",
     "output_type": "stream",
     "text": [
      "Missing values:\n",
      "PatientID                    0\n",
      "Age                          0\n",
      "Gender                       0\n",
      "Ethnicity                    0\n",
      "EducationLevel               0\n",
      "BMI                          0\n",
      "Smoking                      0\n",
      "AlcoholConsumption           0\n",
      "PhysicalActivity             0\n",
      "DietQuality                  0\n",
      "SleepQuality                 0\n",
      "FamilyHistoryAlzheimers      0\n",
      "CardiovascularDisease        0\n",
      "Diabetes                     0\n",
      "Depression                   0\n",
      "HeadInjury                   0\n",
      "Hypertension                 0\n",
      "SystolicBP                   0\n",
      "DiastolicBP                  0\n",
      "CholesterolTotal             0\n",
      "CholesterolLDL               0\n",
      "CholesterolHDL               0\n",
      "CholesterolTriglycerides     0\n",
      "MMSE                         0\n",
      "FunctionalAssessment         0\n",
      "MemoryComplaints             0\n",
      "BehavioralProblems           0\n",
      "ADL                          0\n",
      "Confusion                    0\n",
      "Disorientation               0\n",
      "PersonalityChanges           0\n",
      "DifficultyCompletingTasks    0\n",
      "Forgetfulness                0\n",
      "Diagnosis                    0\n",
      "DoctorInCharge               0\n",
      "dtype: int64\n",
      "\n",
      "Distribución original de clases:\n",
      "Diagnosis\n",
      "0    64.634714\n",
      "1    35.365286\n",
      "Name: proportion, dtype: float64\n"
     ]
    }
   ],
   "source": [
    "# 1. Obtener un set de datos.\n",
    "df = pd.read_csv(\"alzheimers_disease_data.csv\")\n",
    "\n",
    "# 2. Buscar valores vacios\n",
    "print(\"Missing values:\")\n",
    "print(df.isna().sum())\n",
    "\n",
    "# 3. Eliminar columnas que no agrega valor al entrenamiento\n",
    "df = df.drop('PatientID', axis=1)\n",
    "df = df.drop('DoctorInCharge', axis=1)\n",
    "\n",
    "print(\"\\nDistribución original de clases:\")\n",
    "print(df['Diagnosis'].value_counts(normalize=True) * 100)"
   ]
  },
  {
   "cell_type": "code",
   "execution_count": 3,
   "metadata": {},
   "outputs": [],
   "source": [
    "# Guardar las columnas por normalizar\n",
    "numerical_cols = [\"Age\", \"BMI\", \"AlcoholConsumption\", \"PhysicalActivity\", \"DietQuality\", \"SleepQuality\", \"SystolicBP\", \"DiastolicBP\", \"CholesterolTotal\", \"CholesterolLDL\", \"CholesterolHDL\", \"CholesterolTriglycerides\", \"MMSE\", \"FunctionalAssessment\", \"ADL\"]\n",
    "\n",
    "# Guardar las columnas numéricas\n",
    "categorical_cols = [\"Gender\", \"Ethnicity\", \"EducationLevel\", \"Smoking\", \"FamilyHistoryAlzheimers\", \"CardiovascularDisease\", \"Diabetes\", \"Depression\", \"HeadInjury\", \"Hypertension\", \"MemoryComplaints\", \"BehavioralProblems\", \"Confusion\", \"Disorientation\", \"PersonalityChanges\", \"DifficultyCompletingTasks\", \"Forgetfulness\"]"
   ]
  },
  {
   "cell_type": "code",
   "execution_count": 4,
   "metadata": {},
   "outputs": [],
   "source": [
    "# 4. Separar features y target\n",
    "X = df.drop('Diagnosis', axis=1)\n",
    "y = df['Diagnosis']"
   ]
  },
  {
   "cell_type": "code",
   "execution_count": 5,
   "metadata": {},
   "outputs": [],
   "source": [
    "X_train_val, X_external, y_train_val, y_external = train_test_split(X, y, test_size=0.1, random_state=42)\n",
    "\n",
    "external_data = pd.concat([X_external, y_external], axis=1)\n",
    "external_data.to_csv(\"datos_externos.csv\", index=False)"
   ]
  },
  {
   "cell_type": "code",
   "execution_count": 6,
   "metadata": {},
   "outputs": [],
   "source": [
    "# 5. Dividir en train y test con un split 80 - 20\n",
    "X_train, X_test, y_train, y_test = train_test_split(X_train_val, y_train_val, test_size=0.2, random_state=42)"
   ]
  },
  {
   "cell_type": "code",
   "execution_count": 7,
   "metadata": {},
   "outputs": [],
   "source": [
    "# 6. Aplicar las técnicas de escalamiento y transformación de datos\n",
    "# Transformar datos categóricos mediante One Hot Encoder\n",
    "encoder = OneHotEncoder(sparse_output=False)\n",
    "X_train_cat_encoded = encoder.fit_transform(X_train[categorical_cols])\n",
    "X_test_cat_encoded = encoder.transform(X_test[categorical_cols])\n",
    "\n",
    "# Escalamiento de datos numéricos mediante StandarScaler\n",
    "scaler = StandardScaler()\n",
    "X_train_num_scaled = scaler.fit_transform(X_train[numerical_cols])\n",
    "X_test_num_scaled = scaler.transform(X_test[numerical_cols])"
   ]
  },
  {
   "cell_type": "code",
   "execution_count": 8,
   "metadata": {},
   "outputs": [],
   "source": [
    "# 7. Obtener nombres de features\n",
    "encoded_feature_names = encoder.get_feature_names_out(categorical_cols)\n",
    "\n",
    "# Crear DataFrames para datos categóricos transformados\n",
    "X_train_cat_df = pd.DataFrame(X_train_cat_encoded, columns=encoded_feature_names)\n",
    "X_test_cat_df = pd.DataFrame(X_test_cat_encoded, columns=encoded_feature_names)\n",
    "\n",
    "# Crear DataFrames para datos numéricos transformados\n",
    "X_train_num_df = pd.DataFrame(X_train_num_scaled, columns=numerical_cols)\n",
    "X_test_num_df = pd.DataFrame(X_test_num_scaled, columns=numerical_cols)"
   ]
  },
  {
   "cell_type": "code",
   "execution_count": 9,
   "metadata": {},
   "outputs": [],
   "source": [
    "# 8. Combinar datos categóricos y numéricos\n",
    "X_train_processed = pd.concat([X_train_num_df, X_train_cat_df], axis=1)\n",
    "X_test_processed = pd.concat([X_test_num_df, X_test_cat_df], axis=1)"
   ]
  },
  {
   "cell_type": "code",
   "execution_count": 10,
   "metadata": {},
   "outputs": [],
   "source": [
    "# 9. Transformar target a valor numerico mediante LabelEncoder\n",
    "label_encoder = LabelEncoder()\n",
    "y_train_encoded = label_encoder.fit_transform(y_train)\n",
    "y_test_encoded = label_encoder.transform(y_test)"
   ]
  },
  {
   "cell_type": "code",
   "execution_count": 11,
   "metadata": {},
   "outputs": [],
   "source": [
    "#10. Aplcar data augmentation con SMOTE\n",
    "smote = SMOTE(random_state=42)\n",
    "X_train_resampled, y_train_resampled = smote.fit_resample(X_train_processed, y_train_encoded)"
   ]
  },
  {
   "attachments": {},
   "cell_type": "markdown",
   "metadata": {},
   "source": [
    "# Implementación de Modelo"
   ]
  },
  {
   "attachments": {},
   "cell_type": "markdown",
   "metadata": {},
   "source": [
    "### Experimento 1.1"
   ]
  },
  {
   "cell_type": "code",
   "execution_count": 12,
   "metadata": {},
   "outputs": [],
   "source": [
    "# 11. Entrenar modelos base\n",
    "dt_model = DecisionTreeClassifier(random_state=42)\n",
    "svm_model = SVC(probability=True, random_state=42)\n",
    "nb_model = GaussianNB()\n",
    "lr_model = LogisticRegression(random_state=42)\n",
    "rf_model = RandomForestClassifier(random_state=42)\n",
    "lda_model = LinearDiscriminantAnalysis()\n",
    "ada_boost_model = AdaBoostClassifier(random_state=42)\n",
    "kNN_model = KNeighborsClassifier(n_neighbors=5)\n",
    "\n",
    "base_models = [\n",
    "    ('DT', dt_model),\n",
    "    ('SVM', svm_model),\n",
    "    ('NB', nb_model),\n",
    "    ('LR', lr_model),\n",
    "    ('RF', rf_model),\n",
    "    ('LDA', lda_model),\n",
    "    ('AdaBoost', ada_boost_model),\n",
    "    ('kNN', kNN_model)\n",
    "]"
   ]
  },
  {
   "cell_type": "code",
   "execution_count": 13,
   "metadata": {},
   "outputs": [
    {
     "name": "stdout",
     "output_type": "stream",
     "text": [
      "      Model  Accuracy  Precision  Sensitivity  Specificity  F1-Score  \\\n",
      "0        DT  0.891473   0.856115     0.843972     0.918699  0.850000   \n",
      "1       SVM  0.839793   0.772414     0.794326     0.865854  0.783217   \n",
      "2        NB  0.692506   0.568750     0.645390     0.719512  0.604651   \n",
      "3        LR  0.824289   0.715976     0.858156     0.804878  0.780645   \n",
      "4        RF  0.930233   0.919118     0.886525     0.955285  0.902527   \n",
      "5       LDA  0.813953   0.699422     0.858156     0.788618  0.770701   \n",
      "6  AdaBoost  0.909561   0.848684     0.914894     0.906504  0.880546   \n",
      "7       kNN  0.640827   0.504348     0.822695     0.536585  0.625337   \n",
      "\n",
      "        MCC   AUC-ROC  \n",
      "0  0.765034  0.881335  \n",
      "1  0.656368  0.902583  \n",
      "2  0.356600  0.767947  \n",
      "3  0.643341  0.903217  \n",
      "4  0.848564  0.944459  \n",
      "5  0.626037  0.901978  \n",
      "6  0.809422  0.943868  \n",
      "7  0.352125  0.731433  \n"
     ]
    },
    {
     "data": {
      "text/plain": [
       "<matplotlib.legend.Legend at 0x164a52030>"
      ]
     },
     "execution_count": 13,
     "metadata": {},
     "output_type": "execute_result"
    },
    {
     "data": {
      "image/png": "[encoded data removed]",
      "text/plain": [
       "<Figure size 1000x800 with 1 Axes>"
      ]
     },
     "metadata": {},
     "output_type": "display_data"
    }
   ],
   "source": [
    "# 12. Obtener resultados de modelos base\n",
    "base_results = {\n",
    "    'Model': [],\n",
    "    'Accuracy': [],\n",
    "    'Precision': [],\n",
    "    'Sensitivity': [],\n",
    "    'Specificity': [],\n",
    "    'F1-Score': [],\n",
    "    'MCC': [],\n",
    "    'AUC-ROC': []\n",
    "}\n",
    "\n",
    "roc_curves_base = []\n",
    "\n",
    "for name, model in base_models:\n",
    "    model.fit(X_train_resampled, y_train_resampled)\n",
    "    result = evaluate_model(name, model, X_test_processed, y_test_encoded)\n",
    "    base_results['Model'].append(name)\n",
    "    base_results['Accuracy'].append(result['accuracy'])\n",
    "    base_results['Precision'].append(result['precision'])\n",
    "    base_results['Sensitivity'].append(result['sensitivity'])\n",
    "    base_results['Specificity'].append(result['specificity'])\n",
    "    base_results['F1-Score'].append(result['f1'])\n",
    "    base_results['MCC'].append(result['mcc'])\n",
    "    base_results['AUC-ROC'].append(result['auc'])\n",
    "    if 'fpr' in result:\n",
    "        roc_curves_base.append(result)\n",
    "\n",
    "results_df = pd.DataFrame(base_results)\n",
    "print(results_df)\n",
    "\n",
    "# Crear gráfico  ROC\n",
    "plt.figure(figsize=(10, 8))\n",
    "for curve in roc_curves_base:\n",
    "    plt.plot(curve['fpr'], curve['tpr'], lw=2, \n",
    "             label=f\"{curve['name']} (AUC = {curve['auc']:.4f})\")\n",
    "\n",
    "plt.plot([0, 1], [0, 1], 'k--', lw=2)\n",
    "plt.xlim([0.0, 1.0])\n",
    "plt.ylim([0.0, 1.05])\n",
    "plt.xlabel('False Positive Rate')\n",
    "plt.ylabel('True Positive Rate')\n",
    "plt.title('Comparación de curvas ROC')\n",
    "plt.legend(loc=\"lower right\")"
   ]
  },
  {
   "attachments": {},
   "cell_type": "markdown",
   "metadata": {},
   "source": [
    "### Experimento 1.2"
   ]
  },
  {
   "cell_type": "code",
   "execution_count": 14,
   "metadata": {},
   "outputs": [
    {
     "name": "stdout",
     "output_type": "stream",
     "text": [
      "\n",
      "Top características F-Score:\n",
      "                 Feature     F-Score\n",
      "13  FunctionalAssessment  357.448970\n",
      "14                   ADL  305.276057\n",
      "40    MemoryComplaints_1  214.382092\n",
      "39    MemoryComplaints_0  214.382092\n",
      "12                  MMSE  159.409317\n",
      "41  BehavioralProblems_0   74.337197\n",
      "42  BehavioralProblems_1   74.337197\n",
      "43           Confusion_0   12.513076\n",
      "44           Confusion_1   12.513076\n",
      "5           SleepQuality   10.022251\n",
      "36          HeadInjury_1    7.546934\n",
      "35          HeadInjury_0    7.546934\n",
      "31            Diabetes_0    4.513144\n",
      "32            Diabetes_1    4.513144\n",
      "24      EducationLevel_3    4.341399\n"
     ]
    }
   ],
   "source": [
    "# 13. Selección de características (F-Score)\n",
    "selector_all = SelectKBest(f_classif, k='all')\n",
    "selector_all.fit(X_train_resampled, y_train_resampled)\n",
    "feature_scores = pd.DataFrame({\n",
    "    'Feature': X_train_processed.columns,\n",
    "    'F-Score': selector_all.scores_\n",
    "})\n",
    "feature_scores = feature_scores.sort_values('F-Score', ascending=False)\n",
    "print(\"\\nTop características F-Score:\")\n",
    "print(feature_scores.head(15))"
   ]
  },
  {
   "cell_type": "code",
   "execution_count": 15,
   "metadata": {},
   "outputs": [],
   "source": [
    "# 14. Obtención de mejores características (F-Score)\n",
    "subset_sizes = [2, 4, 6, 7, 8, 9, 10, 12] \n",
    "\n",
    "subset_results = {\n",
    "    'Sub_Fe': [],\n",
    "    'Accuracy': [],\n",
    "    'Sensitivity': [],\n",
    "    'Specificity': [],\n",
    "    'MCC': []\n",
    "}\n",
    "\n",
    "for k in subset_sizes:    \n",
    "    selector = SelectKBest(f_classif, k=k)\n",
    "    X_train_k = selector.fit_transform(X_train_resampled, y_train_resampled)\n",
    "    X_test_k = selector.transform(X_test_processed)\n",
    "    \n",
    "    selected_features = X_train_processed.columns[selector.get_support()]\n",
    "    \n",
    "    dt_model_k = DecisionTreeClassifier(random_state=42)\n",
    "    svm_model_k = SVC(probability=True, random_state=42)\n",
    "    nb_model_k = GaussianNB()\n",
    "    lr_model_k = LogisticRegression(random_state=42)\n",
    "    rf_model_k = RandomForestClassifier(random_state=42)\n",
    "    \n",
    "    base_models_k = [\n",
    "        ('DT', dt_model_k),\n",
    "        ('SVM', svm_model_k),\n",
    "        ('NB', nb_model_k),\n",
    "        ('LR', lr_model_k),\n",
    "        ('RF', rf_model_k)\n",
    "    ]\n",
    "    \n",
    "    # Crear modelo propuesta mezclada \n",
    "    voting_model_k = VotingClassifier(estimators=base_models_k, voting='hard')\n",
    "    voting_model_k.fit(X_train_k, y_train_resampled)\n",
    "    \n",
    "    # Evaluar modelo \n",
    "    result = evaluate_model('Ensemble', voting_model_k, X_test_k, y_test_encoded)\n",
    "    \n",
    "    subset_results['Sub_Fe'].append(k)\n",
    "    subset_results['Accuracy'].append(result['accuracy'])\n",
    "    subset_results['Sensitivity'].append(result['sensitivity'])\n",
    "    subset_results['Specificity'].append(result['specificity'])\n",
    "    subset_results['MCC'].append(result['mcc'])\n"
   ]
  },
  {
   "cell_type": "code",
   "execution_count": 16,
   "metadata": {},
   "outputs": [
    {
     "name": "stdout",
     "output_type": "stream",
     "text": [
      "   Sub_Fe  Accuracy  Sensitivity  Specificity       MCC\n",
      "0       2  0.754522     0.595745     0.845528  0.457069\n",
      "1       4  0.798450     0.751773     0.825203  0.570629\n",
      "2       6  0.919897     0.914894     0.922764  0.829495\n",
      "3       7  0.914729     0.907801     0.918699  0.818447\n",
      "4       8  0.914729     0.907801     0.918699  0.818447\n",
      "5       9  0.914729     0.907801     0.918699  0.818447\n",
      "6      10  0.912145     0.914894     0.910569  0.814386\n",
      "7      12  0.919897     0.914894     0.922764  0.829495\n"
     ]
    }
   ],
   "source": [
    "# 15. Obtener resultados experimento 1.1\n",
    "subset_results_df = pd.DataFrame(subset_results)\n",
    "print(subset_results_df)"
   ]
  },
  {
   "cell_type": "code",
   "execution_count": 17,
   "metadata": {},
   "outputs": [
    {
     "name": "stdout",
     "output_type": "stream",
     "text": [
      "\n",
      "Mejor subconjunto: 6 características\n",
      "Accuracy: 0.92%\n"
     ]
    }
   ],
   "source": [
    "# 16. Identificar  mejor subconjunto\n",
    "best_subset_idx = subset_results_df['Accuracy'].idxmax()\n",
    "best_k = subset_results_df.loc[best_subset_idx, 'Sub_Fe']\n",
    "print(f\"\\nMejor subconjunto: {best_k} características\")\n",
    "print(f\"Accuracy: {subset_results_df.loc[best_subset_idx, 'Accuracy']:.2f}%\")"
   ]
  },
  {
   "cell_type": "code",
   "execution_count": 18,
   "metadata": {},
   "outputs": [],
   "source": [
    "# 17. Seleccionar mejor subconjunto\n",
    "final_selector = SelectKBest(f_classif, k=int(best_k))\n",
    "X_train_selected = final_selector.fit_transform(X_train_resampled, y_train_resampled)\n",
    "X_test_selected = final_selector.transform(X_test_processed)"
   ]
  },
  {
   "attachments": {},
   "cell_type": "markdown",
   "metadata": {},
   "source": [
    "### Experimento 2.1"
   ]
  },
  {
   "cell_type": "code",
   "execution_count": 19,
   "metadata": {},
   "outputs": [],
   "source": [
    "# 18. Crear modelos para integración final\n",
    "dt_model_final = DecisionTreeClassifier(random_state=42)\n",
    "svm_model_final = SVC(probability=True, random_state=42)\n",
    "nb_model_final = GaussianNB()\n",
    "lr_model_final = LogisticRegression(random_state=42)\n",
    "rf_model_final = RandomForestClassifier(random_state=42)\n",
    "\n",
    "base_models_final = [\n",
    "    ('DT', dt_model_final),\n",
    "    ('SVM', svm_model_final),\n",
    "    ('NB', nb_model_final),\n",
    "    ('LR', lr_model_final),\n",
    "    ('RF', rf_model_final)\n",
    "]"
   ]
  },
  {
   "cell_type": "code",
   "execution_count": 20,
   "metadata": {},
   "outputs": [
    {
     "name": "stdout",
     "output_type": "stream",
     "text": [
      "Accuracy: 93.41%\n",
      "Precision: 94.10%\n",
      "Sensitivity: 92.63%\n",
      "F1-Score: 93.34%\n"
     ]
    }
   ],
   "source": [
    "# 18. Crear modelo final y validar como indica el paper\n",
    "voting_model_final = VotingClassifier(estimators=base_models_final, voting='hard')\n",
    "\n",
    "# Configurar la validación cruzada como indica el paper\n",
    "kfold = KFold(n_splits=5, shuffle=True, random_state=42)\n",
    "\n",
    "scoring = {\n",
    "    'accuracy': 'accuracy',\n",
    "    'precision': 'precision',\n",
    "    'recall': 'recall',\n",
    "    'f1': 'f1',\n",
    "}\n",
    "\n",
    "cv_results = cross_validate(voting_model_final, X_train_selected, y_train_resampled, cv=kfold, scoring=scoring, return_estimator=True)\n",
    "\n",
    "print(f\"Accuracy: {cv_results['test_accuracy'].mean()*100:.2f}%\")\n",
    "print(f\"Precision: {cv_results['test_precision'].mean()*100:.2f}%\")\n",
    "print(f\"Sensitivity: {cv_results['test_recall'].mean()*100:.2f}%\")\n",
    "print(f\"F1-Score: {cv_results['test_f1'].mean()*100:.2f}%\")\n"
   ]
  },
  {
   "cell_type": "code",
   "execution_count": 21,
   "metadata": {},
   "outputs": [
    {
     "name": "stdout",
     "output_type": "stream",
     "text": [
      "Accuracy: 0.9199\n",
      "Precision: 0.8716\n",
      "Sensitivity: 0.9149\n",
      "Specificity: 0.9228\n",
      "F1-Score: 0.8927\n",
      "MCC: 0.8295\n"
     ]
    }
   ],
   "source": [
    "# 19. Evaliuación modelo final\n",
    "voting_model_final.fit(X_train_selected, y_train_resampled)\n",
    "final_result = evaluate_model('Ensemble Final', voting_model_final, X_test_selected, y_test_encoded)\n",
    "\n",
    "print(f\"Accuracy: {final_result['accuracy']:.4f}\")\n",
    "print(f\"Precision: {final_result['precision']:.4f}\")\n",
    "print(f\"Sensitivity: {final_result['sensitivity']:.4f}\")\n",
    "print(f\"Specificity: {final_result['specificity']:.4f}\")\n",
    "print(f\"F1-Score: {final_result['f1']:.4f}\")\n",
    "print(f\"MCC: {final_result['mcc']:.4f}\")"
   ]
  },
  {
   "attachments": {},
   "cell_type": "markdown",
   "metadata": {},
   "source": [
    "### Experimento 2.2"
   ]
  },
  {
   "cell_type": "code",
   "execution_count": 22,
   "metadata": {},
   "outputs": [],
   "source": [
    "# 20. Resultados y preparación de vlaidación de features\n",
    "fs_results = {\n",
    "    'Método': [],\n",
    "    'Accuracy': []\n",
    "}\n",
    "\n",
    "kfold_10 = KFold(n_splits=10, shuffle=True, random_state=42)\n",
    "\n",
    "best_k = X_train_selected.shape[1]"
   ]
  },
  {
   "cell_type": "code",
   "execution_count": 23,
   "metadata": {},
   "outputs": [],
   "source": [
    "# 21. Evaluación F-Score\n",
    "fs_results['Método'].append('F-Score')\n",
    "fs_results['Accuracy'].append(cv_results['test_accuracy'].mean() * 100)"
   ]
  },
  {
   "cell_type": "code",
   "execution_count": 24,
   "metadata": {},
   "outputs": [],
   "source": [
    "# 21. Evaluación Chi-Square\n",
    "X_min = X_train_resampled.min(axis=0)\n",
    "X_pos = X_train_resampled - X_min + 0.001 \n",
    "\n",
    "chi2_selector = SelectKBest(chi2, k=best_k)\n",
    "X_chi2 = chi2_selector.fit_transform(X_pos, y_train_resampled)\n",
    "chi2_accuracy = cross_val_score(voting_model_final, X_chi2, y_train_resampled, \n",
    "                               cv=kfold_10, scoring='accuracy').mean() * 100\n",
    "fs_results['Método'].append('Chi-Square')\n",
    "fs_results['Accuracy'].append(chi2_accuracy)"
   ]
  },
  {
   "cell_type": "code",
   "execution_count": 25,
   "metadata": {},
   "outputs": [],
   "source": [
    "# 22. Evaluación Mutual Information\n",
    "mi_selector = SelectKBest(mutual_info_classif, k=best_k)\n",
    "X_mi = mi_selector.fit_transform(X_train_resampled, y_train_resampled)\n",
    "mi_accuracy = cross_val_score(voting_model_final, X_mi, y_train_resampled, \n",
    "                             cv=kfold_10, scoring='accuracy').mean() * 100\n",
    "fs_results['Método'].append('MutInfo')\n",
    "fs_results['Accuracy'].append(mi_accuracy)\n"
   ]
  },
  {
   "cell_type": "code",
   "execution_count": 26,
   "metadata": {},
   "outputs": [],
   "source": [
    "# 23. Evaluación RFE\n",
    "estimator = LogisticRegression(max_iter=1000, random_state=42)\n",
    "rfe_selector = RFE(estimator, n_features_to_select=best_k)\n",
    "X_rfe = rfe_selector.fit_transform(X_train_resampled, y_train_resampled)\n",
    "rfe_accuracy = cross_val_score(voting_model_final, X_rfe, y_train_resampled, \n",
    "                              cv=kfold_10, scoring='accuracy').mean() * 100\n",
    "fs_results['Método'].append('RFE')\n",
    "fs_results['Accuracy'].append(rfe_accuracy)\n"
   ]
  },
  {
   "cell_type": "code",
   "execution_count": 27,
   "metadata": {},
   "outputs": [],
   "source": [
    "# 24. Evaluación Lasso\n",
    "lasso = LogisticRegression(penalty='l1', solver='liblinear', C=0.1, random_state=42)\n",
    "lasso.fit(X_train_resampled, y_train_resampled)\n",
    "\n",
    "coefs = np.abs(lasso.coef_[0])\n",
    "\n",
    "feature_names = X_train_resampled.columns\n",
    "\n",
    "feature_importance = pd.DataFrame({\n",
    "    'Feature': feature_names,\n",
    "    'Importance': coefs\n",
    "})\n",
    "\n",
    "feature_importance = feature_importance.sort_values('Importance', ascending=False)\n",
    "top_features = feature_importance.head(best_k)['Feature'].values\n",
    "\n",
    "X_lasso = X_train_resampled.loc[:, top_features]\n",
    "\n",
    "lasso_accuracy = cross_val_score(voting_model_final, X_lasso, y_train_resampled,  cv=kfold_10, scoring='accuracy').mean() * 100\n",
    "fs_results['Método'].append('Lasso')\n",
    "fs_results['Accuracy'].append(lasso_accuracy)"
   ]
  },
  {
   "cell_type": "code",
   "execution_count": 28,
   "metadata": {},
   "outputs": [
    {
     "name": "stdout",
     "output_type": "stream",
     "text": [
      "       Método   Accuracy\n",
      "0     F-Score  93.407606\n",
      "1  Chi-Square  92.857960\n",
      "2     MutInfo  87.264179\n",
      "3         RFE  87.513184\n",
      "4       Lasso  93.406716\n"
     ]
    }
   ],
   "source": [
    "fs_df = pd.DataFrame(fs_results)\n",
    "print(fs_df)"
   ]
  },
  {
   "attachments": {},
   "cell_type": "markdown",
   "metadata": {},
   "source": [
    "# Refinamiento del modelo"
   ]
  },
  {
   "cell_type": "code",
   "execution_count": 29,
   "metadata": {},
   "outputs": [],
   "source": [
    "# 25. Crear parametros para los modelos\n",
    "dt_params = {\n",
    "    'criterion': ['gini', 'entropy'],\n",
    "    'max_depth': [None, 10, 20]\n",
    "}\n",
    "\n",
    "svm_params = {\n",
    "    'C': [0.1, 1, 2.14355, 10],\n",
    "    'kernel': ['linear', 'rbf']\n",
    "}\n",
    "\n",
    "nb_params = {\n",
    "    'var_smoothing': [1e-10, 1e-9, 1e-8, 1e-7]\n",
    "}\n",
    "\n",
    "lr_params = {\n",
    "    'C': [0.1, 1, 10],\n",
    "    'penalty': ['l1', 'l2', None]\n",
    "}\n",
    "\n",
    "rf_params = {\n",
    "    'n_estimators': [100, 150, 200],\n",
    "    'max_depth': [None, 3, 4, 5, 10, 20],\n",
    "    'min_samples_split': [5, 10, 20],\n",
    "    'min_samples_leaf': [3, 5]\n",
    "}"
   ]
  },
  {
   "cell_type": "code",
   "execution_count": 30,
   "metadata": {},
   "outputs": [],
   "source": [
    "# 26. Función para refinar un modelo deseado\n",
    "def refine_model(model, param_grid, X_train, y_train):\n",
    "    model.fit(X_train, y_train)\n",
    "    \n",
    "    grid = GridSearchCV(model, param_grid, cv=5, scoring='accuracy', n_jobs=-1)\n",
    "    grid.fit(X_train, y_train)\n",
    "    \n",
    "    refined_model = grid.best_estimator_\n",
    "    \n",
    "    return refined_model"
   ]
  },
  {
   "cell_type": "code",
   "execution_count": 31,
   "metadata": {},
   "outputs": [],
   "source": [
    "# 27. Función para refinar todos los modelos\n",
    "def refine_all(X_train, y_train):\n",
    "    dt = refine_model(\n",
    "        DecisionTreeClassifier(random_state=42), \n",
    "        dt_params, X_train, y_train)\n",
    "    \n",
    "    svm = refine_model(\n",
    "        SVC(probability=True, random_state=42), \n",
    "        svm_params, X_train, y_train)\n",
    "    \n",
    "    nb = refine_model(\n",
    "        GaussianNB(), \n",
    "        nb_params, X_train, y_train)\n",
    "    \n",
    "    lr = refine_model(\n",
    "        LogisticRegression(random_state=42, max_iter=1000), \n",
    "        lr_params, X_train, y_train)\n",
    "    \n",
    "    rf = refine_model(\n",
    "        RandomForestClassifier(random_state=42), \n",
    "        rf_params, X_train, y_train)\n",
    "    \n",
    "    return {\n",
    "        'DT': dt,\n",
    "        'SVM': svm,\n",
    "        'NB': nb,\n",
    "        'LR': lr,\n",
    "        'RF': rf\n",
    "    }"
   ]
  },
  {
   "cell_type": "code",
   "execution_count": 32,
   "metadata": {},
   "outputs": [
    {
     "name": "stderr",
     "output_type": "stream",
     "text": [
      "/Users/sebastianflores/miniconda3/lib/python3.12/site-packages/sklearn/linear_model/_logistic.py:1207: UserWarning: Setting penalty=None will ignore the C and l1_ratio parameters\n",
      "  warnings.warn(\n",
      "/Users/sebastianflores/miniconda3/lib/python3.12/site-packages/sklearn/linear_model/_logistic.py:1207: UserWarning: Setting penalty=None will ignore the C and l1_ratio parameters\n",
      "  warnings.warn(\n",
      "/Users/sebastianflores/miniconda3/lib/python3.12/site-packages/sklearn/linear_model/_logistic.py:1207: UserWarning: Setting penalty=None will ignore the C and l1_ratio parameters\n",
      "  warnings.warn(\n",
      "/Users/sebastianflores/miniconda3/lib/python3.12/site-packages/sklearn/linear_model/_logistic.py:1207: UserWarning: Setting penalty=None will ignore the C and l1_ratio parameters\n",
      "  warnings.warn(\n",
      "/Users/sebastianflores/miniconda3/lib/python3.12/site-packages/sklearn/linear_model/_logistic.py:1207: UserWarning: Setting penalty=None will ignore the C and l1_ratio parameters\n",
      "  warnings.warn(\n",
      "/Users/sebastianflores/miniconda3/lib/python3.12/site-packages/sklearn/linear_model/_logistic.py:1207: UserWarning: Setting penalty=None will ignore the C and l1_ratio parameters\n",
      "  warnings.warn(\n",
      "/Users/sebastianflores/miniconda3/lib/python3.12/site-packages/sklearn/linear_model/_logistic.py:1207: UserWarning: Setting penalty=None will ignore the C and l1_ratio parameters\n",
      "  warnings.warn(\n",
      "/Users/sebastianflores/miniconda3/lib/python3.12/site-packages/sklearn/linear_model/_logistic.py:1207: UserWarning: Setting penalty=None will ignore the C and l1_ratio parameters\n",
      "  warnings.warn(\n",
      "/Users/sebastianflores/miniconda3/lib/python3.12/site-packages/sklearn/linear_model/_logistic.py:1207: UserWarning: Setting penalty=None will ignore the C and l1_ratio parameters\n",
      "  warnings.warn(\n",
      "/Users/sebastianflores/miniconda3/lib/python3.12/site-packages/sklearn/linear_model/_logistic.py:1207: UserWarning: Setting penalty=None will ignore the C and l1_ratio parameters\n",
      "  warnings.warn(\n",
      "/Users/sebastianflores/miniconda3/lib/python3.12/site-packages/sklearn/model_selection/_validation.py:528: FitFailedWarning: \n",
      "15 fits failed out of a total of 45.\n",
      "The score on these train-test partitions for these parameters will be set to nan.\n",
      "If these failures are not expected, you can try to debug them by setting error_score='raise'.\n",
      "\n",
      "Below are more details about the failures:\n",
      "--------------------------------------------------------------------------------\n",
      "15 fits failed with the following error:\n",
      "Traceback (most recent call last):\n",
      "  File \"/Users/sebastianflores/miniconda3/lib/python3.12/site-packages/sklearn/model_selection/_validation.py\", line 866, in _fit_and_score\n",
      "    estimator.fit(X_train, y_train, **fit_params)\n",
      "  File \"/Users/sebastianflores/miniconda3/lib/python3.12/site-packages/sklearn/base.py\", line 1389, in wrapper\n",
      "    return fit_method(estimator, *args, **kwargs)\n",
      "           ^^^^^^^^^^^^^^^^^^^^^^^^^^^^^^^^^^^^^^\n",
      "  File \"/Users/sebastianflores/miniconda3/lib/python3.12/site-packages/sklearn/linear_model/_logistic.py\", line 1193, in fit\n",
      "    solver = _check_solver(self.solver, self.penalty, self.dual)\n",
      "             ^^^^^^^^^^^^^^^^^^^^^^^^^^^^^^^^^^^^^^^^^^^^^^^^^^^\n",
      "  File \"/Users/sebastianflores/miniconda3/lib/python3.12/site-packages/sklearn/linear_model/_logistic.py\", line 63, in _check_solver\n",
      "    raise ValueError(\n",
      "ValueError: Solver lbfgs supports only 'l2' or None penalties, got l1 penalty.\n",
      "\n",
      "  warnings.warn(some_fits_failed_message, FitFailedWarning)\n",
      "/Users/sebastianflores/miniconda3/lib/python3.12/site-packages/sklearn/model_selection/_search.py:1108: UserWarning: One or more of the test scores are non-finite: [       nan 0.83917706 0.83767706        nan 0.8366783  0.83767706\n",
      "        nan 0.83767706 0.83767706]\n",
      "  warnings.warn(\n"
     ]
    }
   ],
   "source": [
    "# 28 Obtención de modelos refinados\n",
    "refined_models = refine_all(X_train_selected, y_train_resampled)\n",
    "\n",
    "base_models_final_refined = [\n",
    "    ('DT', refined_models['DT']),\n",
    "    ('SVM', refined_models['SVM']),\n",
    "    ('NB', refined_models['NB']),\n",
    "    ('LR', refined_models['LR']),\n",
    "    ('RF', refined_models['RF'])\n",
    "]"
   ]
  },
  {
   "cell_type": "code",
   "execution_count": 33,
   "metadata": {},
   "outputs": [
    {
     "name": "stdout",
     "output_type": "stream",
     "text": [
      "Accuracy: 94.01%\n",
      "Precision: 95.35%\n",
      "Sensitivity: 92.54%\n",
      "F1-Score: 93.90%\n"
     ]
    }
   ],
   "source": [
    "# 29. Crear modelo final con sub modelos optimizados\n",
    "voting_model_final_refined = VotingClassifier(estimators=base_models_final_refined, voting='hard')\n",
    "\n",
    "# Configurar la validación cruzada como indica el paper\n",
    "kfold = KFold(n_splits=5, shuffle=True, random_state=42)\n",
    "\n",
    "scoring = {\n",
    "    'accuracy': 'accuracy',\n",
    "    'precision': 'precision',\n",
    "    'recall': 'recall',\n",
    "    'f1': 'f1',\n",
    "}\n",
    "\n",
    "cv_results = cross_validate(voting_model_final_refined, X_train_selected, y_train_resampled, cv=kfold, scoring=scoring, return_estimator=True)\n",
    "\n",
    "print(f\"Accuracy: {cv_results['test_accuracy'].mean()*100:.2f}%\")\n",
    "print(f\"Precision: {cv_results['test_precision'].mean()*100:.2f}%\")\n",
    "print(f\"Sensitivity: {cv_results['test_recall'].mean()*100:.2f}%\")\n",
    "print(f\"F1-Score: {cv_results['test_f1'].mean()*100:.2f}%\")\n"
   ]
  },
  {
   "cell_type": "code",
   "execution_count": 34,
   "metadata": {},
   "outputs": [
    {
     "name": "stdout",
     "output_type": "stream",
     "text": [
      "Accuracy: 0.9380\n",
      "Precision: 0.9149\n",
      "Sensitivity: 0.9149\n",
      "Specificity: 0.9512\n",
      "F1-Score: 0.9149\n",
      "MCC: 0.8661\n"
     ]
    }
   ],
   "source": [
    "# 30. Evaliuación modelo final refinado\n",
    "voting_model_final_refined.fit(X_train_selected, y_train_resampled)\n",
    "final_result = evaluate_model('Ensemble Final', voting_model_final_refined, X_test_selected, y_test_encoded)\n",
    "\n",
    "print(f\"Accuracy: {final_result['accuracy']:.4f}\")\n",
    "print(f\"Precision: {final_result['precision']:.4f}\")\n",
    "print(f\"Sensitivity: {final_result['sensitivity']:.4f}\")\n",
    "print(f\"Specificity: {final_result['specificity']:.4f}\")\n",
    "print(f\"F1-Score: {final_result['f1']:.4f}\")\n",
    "print(f\"MCC: {final_result['mcc']:.4f}\")"
   ]
  },
  {
   "attachments": {},
   "cell_type": "markdown",
   "metadata": {},
   "source": [
    "# Guardar el Modelo"
   ]
  },
  {
   "cell_type": "code",
   "execution_count": 35,
   "metadata": {},
   "outputs": [],
   "source": [
    "components = {\n",
    "    'numerical_cols': numerical_cols,\n",
    "    'categorical_cols': categorical_cols,\n",
    "    'encoder': encoder,\n",
    "    'scaler': scaler,\n",
    "    'label_encoder': label_encoder,\n",
    "    'selector': final_selector,\n",
    "    'selected_features': selected_features,\n",
    "    'model': voting_model_final_refined,\n",
    "}\n",
    "\n",
    "with open('modelo_alzheimer.pkl', 'wb') as f:\n",
    "    pickle.dump(components, f)"
   ]
  }
 ],
 "metadata": {
  "kernelspec": {
   "display_name": "base",
   "language": "python",
   "name": "python3"
  },
  "language_info": {
   "codemirror_mode": {
    "name": "ipython",
    "version": 3
   },
   "file_extension": ".py",
   "mimetype": "text/x-python",
   "name": "python",
   "nbconvert_exporter": "python",
   "pygments_lexer": "ipython3",
   "version": "3.12.9"
  },
  "orig_nbformat": 4,
  "vscode": {
   "interpreter": {
    "hash": "a2f8dd9a2b65164a0dd37b4e5739f150314b1e17efbbfa1422ea4f2e7b18b306"
   }
  }
 },
 "nbformat": 4,
 "nbformat_minor": 2
}
